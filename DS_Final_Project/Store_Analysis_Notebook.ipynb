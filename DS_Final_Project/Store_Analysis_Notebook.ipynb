{
 "cells": [
  {
   "cell_type": "markdown",
   "id": "734b91ba",
   "metadata": {},
   "source": [
    "# Data Analysis for Store Dataset"
   ]
  },
  {
   "cell_type": "code",
   "execution_count": 2,
   "id": "48379cc0",
   "metadata": {},
   "outputs": [
    {
     "data": {
      "text/plain": [
       "StockCode\n",
       "85123A    2035\n",
       "22423     1723\n",
       "85099B    1618\n",
       "84879     1408\n",
       "47566     1396\n",
       "20725     1317\n",
       "22720     1159\n",
       "20727     1105\n",
       "POST      1099\n",
       "23203     1098\n",
       "Name: count, dtype: int64"
      ]
     },
     "execution_count": 2,
     "metadata": {},
     "output_type": "execute_result"
    }
   ],
   "source": [
    "\n",
    "# Import necessary libraries\n",
    "import pandas as pd\n",
    "from mlxtend.frequent_patterns import apriori, association_rules\n",
    "\n",
    "# Load the dataset\n",
    "file_path = 'dataset-3.csv'\n",
    "data = pd.read_csv(file_path)\n",
    "\n",
    "# Convert InvoiceDate to datetime for temporal analysis\n",
    "data['InvoiceDate'] = pd.to_datetime(data['InvoiceDate'])\n",
    "\n",
    "# Drop rows with missing CustomerID and erroneous data (negative Quantity/UnitPrice)\n",
    "cleaned_data = data.dropna(subset=['CustomerID'])\n",
    "cleaned_data = cleaned_data[(cleaned_data['Quantity'] > 0) & (cleaned_data['UnitPrice'] > 0)]\n",
    "\n",
    "# Preliminary analysis: Frequency of items purchased\n",
    "item_frequency = cleaned_data['StockCode'].value_counts().head(10)\n",
    "item_frequency\n",
    "    "
   ]
  },
  {
   "cell_type": "markdown",
   "id": "eb0c7ec2",
   "metadata": {},
   "source": [
    "## Monthly Transactions Analysis"
   ]
  },
  {
   "cell_type": "code",
   "execution_count": 3,
   "id": "90371ae7",
   "metadata": {},
   "outputs": [
    {
     "data": {
      "text/plain": [
       "Month\n",
       "1      987\n",
       "2      997\n",
       "3     1321\n",
       "4     1149\n",
       "5     1555\n",
       "6     1393\n",
       "7     1331\n",
       "8     1280\n",
       "9     1755\n",
       "10    1929\n",
       "11    2657\n",
       "12    2178\n",
       "Name: InvoiceNo, dtype: int64"
      ]
     },
     "execution_count": 3,
     "metadata": {},
     "output_type": "execute_result"
    }
   ],
   "source": [
    "\n",
    "# Analyze the number of transactions per month\n",
    "cleaned_data['Month'] = cleaned_data['InvoiceDate'].dt.month\n",
    "monthly_transactions = cleaned_data.groupby('Month')['InvoiceNo'].nunique()\n",
    "monthly_transactions\n",
    "    "
   ]
  },
  {
   "cell_type": "markdown",
   "id": "e789f9ca",
   "metadata": {},
   "source": [
    "## Market Basket Analysis"
   ]
  },
  {
   "cell_type": "code",
   "execution_count": 4,
   "id": "e2cf02ad",
   "metadata": {},
   "outputs": [
    {
     "name": "stderr",
     "output_type": "stream",
     "text": [
      "/var/folders/f7/lqjcwz1n2kb6zhtcyg6czvx40000gn/T/ipykernel_4430/797217724.py:3: FutureWarning: DataFrame.applymap has been deprecated. Use DataFrame.map instead.\n",
      "  basket = basket.applymap(lambda x: 1 if x > 0 else 0)\n",
      "/Users/ijosh/Documents/GitHub/data-science/.venv/lib/python3.12/site-packages/mlxtend/frequent_patterns/fpcommon.py:161: DeprecationWarning: DataFrames with non-bool types result in worse computationalperformance and their support might be discontinued in the future.Please use a DataFrame with bool type\n",
      "  warnings.warn(\n"
     ]
    },
    {
     "ename": "TypeError",
     "evalue": "association_rules() missing 1 required positional argument: 'num_itemsets'",
     "output_type": "error",
     "traceback": [
      "\u001b[0;31m---------------------------------------------------------------------------\u001b[0m",
      "\u001b[0;31mTypeError\u001b[0m                                 Traceback (most recent call last)",
      "Cell \u001b[0;32mIn[4], line 9\u001b[0m\n\u001b[1;32m      6\u001b[0m frequent_itemsets \u001b[38;5;241m=\u001b[39m apriori(basket, min_support\u001b[38;5;241m=\u001b[39m\u001b[38;5;241m0.01\u001b[39m, use_colnames\u001b[38;5;241m=\u001b[39m\u001b[38;5;28;01mTrue\u001b[39;00m)\n\u001b[1;32m      8\u001b[0m \u001b[38;5;66;03m# Generate association rules\u001b[39;00m\n\u001b[0;32m----> 9\u001b[0m rules \u001b[38;5;241m=\u001b[39m \u001b[43massociation_rules\u001b[49m\u001b[43m(\u001b[49m\u001b[43mfrequent_itemsets\u001b[49m\u001b[43m,\u001b[49m\u001b[43m \u001b[49m\u001b[43mmetric\u001b[49m\u001b[38;5;241;43m=\u001b[39;49m\u001b[38;5;124;43m\"\u001b[39;49m\u001b[38;5;124;43mconfidence\u001b[39;49m\u001b[38;5;124;43m\"\u001b[39;49m\u001b[43m,\u001b[49m\u001b[43m \u001b[49m\u001b[43mmin_threshold\u001b[49m\u001b[38;5;241;43m=\u001b[39;49m\u001b[38;5;241;43m0.1\u001b[39;49m\u001b[43m)\u001b[49m\n\u001b[1;32m     10\u001b[0m top_rules \u001b[38;5;241m=\u001b[39m rules\u001b[38;5;241m.\u001b[39msort_values(by\u001b[38;5;241m=\u001b[39m\u001b[38;5;124m'\u001b[39m\u001b[38;5;124mlift\u001b[39m\u001b[38;5;124m'\u001b[39m, ascending\u001b[38;5;241m=\u001b[39m\u001b[38;5;28;01mFalse\u001b[39;00m)\u001b[38;5;241m.\u001b[39mhead(\u001b[38;5;241m10\u001b[39m)\n\u001b[1;32m     11\u001b[0m top_rules\n",
      "\u001b[0;31mTypeError\u001b[0m: association_rules() missing 1 required positional argument: 'num_itemsets'"
     ]
    }
   ],
   "source": [
    "\n",
    "# Prepare data for market basket analysis\n",
    "basket = cleaned_data.groupby(['InvoiceNo', 'StockCode'])['Quantity'].sum().unstack(fill_value=0)\n",
    "basket = basket.applymap(lambda x: 1 if x > 0 else 0)\n",
    "\n",
    "# Perform the Apriori algorithm\n",
    "frequent_itemsets = apriori(basket, min_support=0.01, use_colnames=True)\n",
    "\n",
    "# Generate association rules\n",
    "rules = association_rules(frequent_itemsets, metric=\"confidence\", min_threshold=0.1)\n",
    "top_rules = rules.sort_values(by='lift', ascending=False).head(10)\n",
    "top_rules\n",
    "    "
   ]
  },
  {
   "cell_type": "markdown",
   "id": "70df0422",
   "metadata": {},
   "source": [
    "## Recommendations"
   ]
  },
  {
   "cell_type": "code",
   "execution_count": null,
   "id": "66b01fce",
   "metadata": {},
   "outputs": [],
   "source": [
    "\n",
    "# Provide recommendations based on analysis\n",
    "recommendations = [\n",
    "    \"Promote high-frequency items such as 85123A and 85099B.\",\n",
    "    \"Bundle items frequently purchased together as identified in the market basket analysis.\",\n",
    "    \"Schedule promotions during peak shopping hours (12 PM - 1 PM).\",\n",
    "    \"Target midweek shoppers with tailored campaigns.\",\n",
    "    \"Improve inventory management for high-demand items like 85123A.\"\n",
    "]\n",
    "recommendations\n",
    "    "
   ]
  }
 ],
 "metadata": {
  "kernelspec": {
   "display_name": ".venv",
   "language": "python",
   "name": "python3"
  },
  "language_info": {
   "codemirror_mode": {
    "name": "ipython",
    "version": 3
   },
   "file_extension": ".py",
   "mimetype": "text/x-python",
   "name": "python",
   "nbconvert_exporter": "python",
   "pygments_lexer": "ipython3",
   "version": "3.12.3"
  }
 },
 "nbformat": 4,
 "nbformat_minor": 5
}
