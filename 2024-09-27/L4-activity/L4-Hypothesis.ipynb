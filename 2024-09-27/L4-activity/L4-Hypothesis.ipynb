{
 "cells": [
  {
   "cell_type": "markdown",
   "metadata": {},
   "source": [
    "### Introduction to Hypothesis Testing\n",
    "\n",
    "In the statistical world, a hypothesis is an assumption about a __population parameter__. Examples of hypotheses (that’s plural for hypothesis) include the following:\n",
    "- The average adult drinks 1.7 cups of coffee per day.\n",
    "- Twelve percent of undergraduate students will go directly to graduate school after graduation.\n",
    "- No more than 2 percent of our products sold to customers are defective\n",
    "\n",
    "In each case, we have made a statement about the population that may or may not be true. The purpose of hypothesis testing is to make a statistical conclusion about accepting or not accepting such statements.\n",
    "\n",
    "We start by having a null hypothesis $H_0$ which represents the status quo, that is the population is not effected by whatever intervention applied. The alternate hypothesis $H_1$ is to denote that there is an effect on the population. \n",
    "\n",
    "\n",
    "We can visualise the procedure as follows:\n",
    "- Collect a sample of size n, and calculate the test statistic, which in this case is the sample mean.\n",
    "- Plot the sample mean on the x-axis of the sampling distribution curve.\n",
    "- If the sample mean falls within the white region, we do not reject $H_0$. That is, we do not have enough evidence to support $H_1$, the alternative hypothesis, which states that the population mean is not equal to 6.0 days.\n",
    "- If the sample mean falls in either shaded region, otherwise known as the rejection region, we reject $H_0$. That is, we have enough evidence to support $H_1$, which results in our belief that the true population mean is not equal to 6.0 day\n",
    "\n",
    "Because there are two rejection regions in this figure, we have a two-tail hypothesis test.\n",
    "\n",
    "For example, we may have a null hypothesis as:\n",
    "\n",
    "$$H_0:\\mu=6.0 days$$\n",
    "$$H_1:\\mu\\ne6.0 days$$\n",
    "\n",
    "where $\\mu$ is the mean number of days for a medical suture to dissolve. We invented a new suture, and want to test if there is a differences in the days it will take to dissolve. For the new suture, we found the mean to be 6.1 days. Is the new suture able to dissovle faster than the normal sutures?\n",
    "\n",
    "Let’s say that I know that the standard deviation of the population, $\\sigma$, is 0.5 days, and my sample size to test the hypothesis, n, is 30. We’ll also set $\\alpha$ = 0.05, which means I’m willing to accept a 5 percent chance of committing a Type I error. \n",
    "\n",
    "When the samples are less than 30, we use the t-distribution. If the population standard deviation is unknown we use the sample standard distribution divided by the square root of the sample size. "
   ]
  },
  {
   "cell_type": "code",
   "execution_count": 1,
   "metadata": {},
   "outputs": [
    {
     "name": "stdout",
     "output_type": "stream",
     "text": [
      "(5.821080585628284, 6.178919414371716)\n"
     ]
    }
   ],
   "source": [
    "from scipy import stats\n",
    "import math\n",
    "\n",
    "Ho = 6 # null Hypothesis\n",
    "\n",
    "cf=stats.norm.interval(.95, loc=Ho, scale=0.5/math.sqrt(30))\n",
    "print(cf)\n"
   ]
  },
  {
   "cell_type": "code",
   "execution_count": 2,
   "metadata": {},
   "outputs": [
    {
     "name": "stdout",
     "output_type": "stream",
     "text": [
      "1.0954451150103284\n",
      "0.1366608391461499\n"
     ]
    }
   ],
   "source": [
    "def zscore(xtest,mean,std,size):\n",
    "    return (xtest-mean)/(std/math.sqrt(size))\n",
    "zx=zscore(6.1,6.0,0.5,30)\n",
    "\n",
    "print (zx) #explain what this means\n",
    "print(1-stats.norm.cdf(zx)) #explain what this means\n",
    "\n"
   ]
  },
  {
   "cell_type": "markdown",
   "metadata": {},
   "source": [
    "!['hypothesis'](./lab4-img/hypo_1.png)\n",
    "\n",
    "Is the new suture better, in terms of being able to dissolve faster, than the old sutures? Why?"
   ]
  },
  {
   "cell_type": "markdown",
   "metadata": {},
   "source": [
    "A random sample of 100 working mothers spend an average of 11.5 minutes per day talking with their children. Assume the population standard deviation is 2.3 minutes and mean is 11 mins. \n",
    "\n",
    "The null hypothesis is $\\mu=11$. The alternative hypothesis is $\\mu>11$. Test this claim. The calculation is shown below. \n",
    "\n",
    "#### Your Turn\n",
    "Explain the calculation below. Reject or accept?\n"
   ]
  },
  {
   "cell_type": "code",
   "execution_count": 4,
   "metadata": {},
   "outputs": [
    {
     "name": "stdout",
     "output_type": "stream",
     "text": [
      "Z-score: 2.173913043478261\n",
      "p-value: 0.014855833143976649\n"
     ]
    }
   ],
   "source": [
    "def zscore(xtest, mean, std, size):\n",
    "    return (xtest-mean)/(std/math.sqrt(size))\n",
    "\n",
    "\n",
    "mean = 11\n",
    "std = 2.3\n",
    "\n",
    "sample_mean = 11.5\n",
    "n = 100\n",
    "\n",
    "zx = zscore(sample_mean, mean, std, n)\n",
    "\n",
    "print(\"Z-score:\", zx)\n",
    "print(\"p-value:\", 1 - stats.norm.cdf(zx))"
   ]
  },
  {
   "cell_type": "markdown",
   "metadata": {},
   "source": [
    "## Answer:\n",
    "\n",
    "- $\\alpha$ = 0.05\n",
    "- p-value: 0.0148\n",
    "- Z-score: 2.174\n",
    "\n",
    "The p-value < $\\alpha$ AND Z-score (2.17) > 1.96, hence we reject the $H_0:\\mu$=6.0 days.\n",
    "\n",
    "This indicates that the sample provides enough evidence to support the alternative hypothesis."
   ]
  },
  {
   "cell_type": "markdown",
   "metadata": {},
   "source": [
    "### Your Turn\n",
    "\n",
    "1. Formulate a hypothesis statement for the following claim: “The average adult drinks 1.7 cups of coffee per day.” A sample of 35 adults drank an average of 1.95 cups per day. Assume the population standard deviation is 0.5 cups. Using\n",
    "$\\alpha$ = 0.10, test your hypothesis. What is your conclusion?\n",
    "\n",
    "2. Formulate a hypothesis statement for the following claim: “The average age of our customers is less than 40 years old.” A sample of 50 customers had an average age of 38.7 years. Assume the population standard deviation is 12.5 years. Using $\\alpha$ = 0.05, test your hypothesis. What is your conclusion?\n"
   ]
  },
  {
   "cell_type": "code",
   "execution_count": 9,
   "metadata": {},
   "outputs": [
    {
     "name": "stdout",
     "output_type": "stream",
     "text": [
      "Z-score: 2.9580\n",
      "Critical Z-value: ±1.6449\n",
      "p-value: 0.0031\n",
      "\n",
      "Decision:\n",
      "Reject the null hypothesis.\n"
     ]
    }
   ],
   "source": [
    "# Answer 1:\n",
    "mean = 1.7\n",
    "std = 0.5\n",
    "\n",
    "sample_mean = 1.95\n",
    "n = 35\n",
    "alpha = 0.10\n",
    "\n",
    "zx = zscore(sample_mean, mean, std, n)\n",
    "z_critical = stats.norm.ppf(1 - alpha / 2)\n",
    "p_value = 2 * (1 - stats.norm.cdf(abs(zx)))\n",
    "\n",
    "# Print the results\n",
    "print(f\"Z-score: {zx:.4f}\")\n",
    "print(f\"Critical Z-value: ±{z_critical:.4f}\")\n",
    "print(f\"p-value: {p_value:.4f}\")\n",
    "\n",
    "\n",
    "print(\"\\nDecision:\")\n",
    "# Decision rule\n",
    "if abs(zx) > z_critical:\n",
    "    print(\"Reject the null hypothesis.\")\n",
    "else:\n",
    "    print(\"Fail to reject the null hypothesis.\")"
   ]
  },
  {
   "cell_type": "code",
   "execution_count": 10,
   "metadata": {},
   "outputs": [
    {
     "name": "stdout",
     "output_type": "stream",
     "text": [
      "Z-score: -0.7354\n",
      "Critical Z-value: 1.9600\n",
      "p-value: 0.4621\n",
      "\n",
      "Decision:\n",
      "Reject the null hypothesis.\n"
     ]
    }
   ],
   "source": [
    "mean = 40\n",
    "std = 12.5\n",
    "\n",
    "n = 50\n",
    "sample_mean = 38.7\n",
    "alpha = 0.05\n",
    "\n",
    "zx = zscore(sample_mean, mean, std, n)\n",
    "z_critical = stats.norm.ppf(1 - alpha / 2)\n",
    "p_value = 2 * (1 - stats.norm.cdf(abs(zx)))\n",
    "\n",
    "\n",
    "# Print the results\n",
    "print(f\"Z-score: {zx:.4f}\")\n",
    "print(f\"Critical Z-value: {z_critical:.4f}\")\n",
    "print(f\"p-value: {p_value:.4f}\")\n",
    "\n",
    "print(\"\\nDecision:\")\n",
    "# Decision rule\n",
    "if zx < z_critical:\n",
    "    print(\"Reject the null hypothesis.\")\n",
    "else:\n",
    "    print(\"Fail to reject the null hypothesis.\")"
   ]
  },
  {
   "cell_type": "code",
   "execution_count": null,
   "metadata": {},
   "outputs": [],
   "source": []
  }
 ],
 "metadata": {
  "kernelspec": {
   "display_name": "Python 3",
   "language": "python",
   "name": "python3"
  },
  "language_info": {
   "codemirror_mode": {
    "name": "ipython",
    "version": 3
   },
   "file_extension": ".py",
   "mimetype": "text/x-python",
   "name": "python",
   "nbconvert_exporter": "python",
   "pygments_lexer": "ipython3",
   "version": "3.12.3"
  }
 },
 "nbformat": 4,
 "nbformat_minor": 2
}
