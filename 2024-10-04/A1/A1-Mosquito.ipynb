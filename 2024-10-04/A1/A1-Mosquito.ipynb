{
 "cells": [
  {
   "cell_type": "markdown",
   "metadata": {},
   "source": [
    "### Assignment 1\n",
    "\n",
    "#### Inferential Statistics\n",
    "\n",
    "In this exercise we are interested to make some conclusions or inferences on the population using only a subset of data (samples).Let's look at an example.\n",
    "\n",
    "Consider that you are trying to decide if a coin is fair. How would you decide that?\n",
    "\n",
    "Suppose you toss it 17 times and it came out heads 7 times, is the coin fair? Or you toss it 19 times, you got heads 9 times, is the coin fair? How do we decide? Even a fair coin could show 22 heads in 30 tosses. It might be just chance.\n",
    "\n",
    "The classical method is to perform a hypothesis testing. But here let's try a different and perhaps more intuitive approach. \n",
    "\n",
    "Let's consider this more interesting problem: Does beer consumption increases Human Attractiveness to Malaria Mosquitoes?\n",
    "\n",
    "An experiment was performed using equipment like this:\n",
    "\n",
    "![Mosquito](A1-img/mosquito.png)\n",
    "\n",
    "Volunteers consumed either beer (n = 25 volunteers and a total of 2500 mosquitoes tested) or water (n = 18 volunteers and a total of 1800 mosquitoes). Batches of 50 mosquitoes were released into the downwind box of the olfactometer (figure 1C) and given a choice between outdoor air and human odour.  At the end of each test, the mosquitoes inside the two traps were removed with an aspirator and counted.\n",
    "\n",
    "These are the results which showed the number of mosquitoes caught in the traps for each volunteers.\n",
    "\n",
    "\n",
    "|  |  Beer  |  |\n",
    "|------|------|----|\n",
    "| 27 | 19 | 20 |\n",
    "| 20 | 23 | 17 |\n",
    "| 21 | 24 | 31 |\n",
    "| 26 | 28 | 20 |\n",
    "| 27 | 19 | 25 |\n",
    "| 31 | 24 | 28 |\n",
    "| 24 | 29 | 21 |        \n",
    "| 21 | 18 | 27 |\n",
    "| 20 |    |    |\n",
    "\n",
    "|  |  Water  |  |\n",
    "|----|----|----|\n",
    "| 21 | 19 | 13 |\n",
    "| 22 | 15 | 22 |\n",
    "| 15 | 22 | 20 |\n",
    "| 12 | 24 | 24 |\n",
    "| 21 | 19 | 18 |\n",
    "| 16 | 23 | 20 |"
   ]
  },
  {
   "cell_type": "code",
   "execution_count": null,
   "metadata": {},
   "outputs": [],
   "source": [
    "import pandas as pd\n",
    "\n",
    "df = pd.DataFrame({'beer':  [1, 1, 1, 1, 1, 1, 1, 1, 1, 1, 1, 1, 1, 1, 1, 1, 1, 1, 1, 1, 1, 1, 1, 1, 1]+ \n",
    "                            [0, 0, 0, 0, 0, 0, 0, 0, 0, 0, 0, 0, 0, 0, 0, 0, 0, 0],\n",
    "                   'num':   [27, 19, 20, 20, 23, 17, 21, 24, 31, 26, 28, 20, 27, 19, 25, 31, 24, 28, 24, 29, 21, 21,18,27,20]+\n",
    "                            [21, 19, 13, 22, 15, 22, 15, 22, 20, 12, 24, 24, 21, 19, 18, 16, 23, 20]\n",
    "                  })"
   ]
  },
  {
   "cell_type": "code",
   "execution_count": null,
   "metadata": {},
   "outputs": [],
   "source": [
    "df.head()\n"
   ]
  },
  {
   "cell_type": "code",
   "execution_count": null,
   "metadata": {},
   "outputs": [],
   "source": [
    "beer_mean = df[df.beer == 1].num.mean()\n",
    "water_mean = df[df.beer == 0].num.mean()\n",
    "\n",
    "print(\"Mean number of Mosquitoes (Beer): %2.1f\" % beer_mean)\n",
    "print(\"Mean number of Mosquitoes (Water): %2.1f\" % water_mean)\n",
    "print(\"Difference: %2.1f\" % (beer_mean - water_mean))"
   ]
  },
  {
   "cell_type": "markdown",
   "metadata": {},
   "source": [
    "Do the results indicate that beer drinkings are more prone to mosquito bites? Skeptics argue that beer consumption has not effect. The difference of 4.4 is too small, it could have happened by chance. Others otherwise argue, the additional 4.4 mosquitos is quite a large difference that could not have been by chance. What do you say?\n",
    "\n",
    "Well, to determine if this is a signficant difference, we would normally perform a __t-test__ on our data to compute a p-value, and then just make sure that the p-value is less than the target 0.05. This is hypothesis testing - which we will discuss later."
   ]
  },
  {
   "cell_type": "markdown",
   "metadata": {},
   "source": [
    "We could take a more intuitive approach. The thing we are trying to figure out is whether the 4.4 difference is a large or small effect. Le'ts think about it. If the skeptic is right, i.e. there is **no difference**, that is to say if we swap the numbers around between the two groups it would not have made a difference. **If do this swapping (or shuffling) a number of times, we can find out how often this 4.4 difference occurs.** \n",
    "\n",
    "\n",
    "<img src=\"A1-img/beer_water_2.png\" style=\"width: 400px;\"/>\n",
    "<img src=\"A1-img/beer_water_1.png\" style=\"width: 400px;\"/>\n",
    "<img src=\"A1-img/beer_water_0.png\" style=\"width: 400px;\"/>\n"
   ]
  },
  {
   "cell_type": "markdown",
   "metadata": {},
   "source": [
    "Let's plot the groups of data out first\n"
   ]
  },
  {
   "cell_type": "code",
   "execution_count": null,
   "metadata": {},
   "outputs": [],
   "source": [
    "import seaborn as sns\n",
    "%matplotlib inline\n",
    "sns.swarmplot(x='beer',y='num',hue='beer',data=df)"
   ]
  },
  {
   "cell_type": "code",
   "execution_count": null,
   "metadata": {},
   "outputs": [],
   "source": [
    "import seaborn as sns\n",
    "\n",
    "sns.distplot(df.num,bins=16,kde=False)"
   ]
  },
  {
   "cell_type": "markdown",
   "metadata": {},
   "source": [
    "Let us now do this shuffling in code, say 10,000 times.\n"
   ]
  },
  {
   "cell_type": "code",
   "execution_count": null,
   "metadata": {},
   "outputs": [],
   "source": [
    "import numpy as np\n",
    "\n",
    "df['label'] = df['beer']\n",
    "\n",
    "num_simulations = 100\n",
    "\n",
    "differences = []\n",
    "for i in range(num_simulations):\n",
    "    np.random.shuffle(df['label'])\n",
    "    beer_mean = df[df.label == 1].num.mean()\n",
    "    water_mean = df[df.label == 0].num.mean()\n",
    "    differences.append(beer_mean - water_mean)\n",
    "    #print(differences)"
   ]
  },
  {
   "cell_type": "markdown",
   "metadata": {},
   "source": [
    "We can plot  a few of these random swap simulations.\n",
    "![](random-swap.png)"
   ]
  },
  {
   "cell_type": "code",
   "execution_count": null,
   "metadata": {},
   "outputs": [],
   "source": [
    "import seaborn as sns\n",
    "\n",
    "sns.distplot(differences,bins=50,kde=False)\n"
   ]
  },
  {
   "cell_type": "markdown",
   "metadata": {},
   "source": [
    "Increase the number of simulations to 10,000 and re-plot it. What is the reason for increasing the number of simulations?\n",
    "\n",
    "### Question \n",
    "1. What is the reason for increasing the number of simulations?\n",
    "1. How many times 4.4 occurs in the distribution plot? \n",
    "2. Based on above can you explain if there is a difference between the beer and water group (that is if the mosquito prefers the beer or water group)? \n",
    "2. Construct a different data set so that there is no difference in effect for the beer and water. Show that there is no difference by repeating the experiment as above. Explain why you conclude there is no difference.\n",
    "\n"
   ]
  },
  {
   "cell_type": "markdown",
   "metadata": {},
   "source": [
    "#### Hypothesis Testing \n",
    "\n",
    "We can also perform the t-test using the Scipy library.The t-statistic is how many standard errors of the difference the two means are apart. The p-value is the probability of seeing a t-statistic at least that far from 0 if the null hypothesis were true. Low p-values lead to rejection of the null hypothesis. \n",
    "\n",
    "### Question\n",
    "Is the result with t-test significant? Explain why.\n"
   ]
  },
  {
   "cell_type": "code",
   "execution_count": null,
   "metadata": {},
   "outputs": [],
   "source": [
    "from scipy import stats\n",
    "beer = df[df.beer == 1]['num']\n",
    "water= df[df.beer == 0]['num']\n",
    "stats.ttest_ind(beer,water)"
   ]
  },
  {
   "cell_type": "markdown",
   "metadata": {},
   "source": [
    "### Question\n",
    "\n",
    "Use the data and code provided below. The data represents two group, one have been given treatment A (group=1) whereas the other is the control group with no treatment given. The days give the number of days taken by a patient to recover. Find out if the treatment A have an effect on the patients.\n",
    "\n",
    "```\n",
    "import pandas as pd\n",
    "\n",
    "df = pd.DataFrame({'group':  [1, 1, 1, 1, 1, 1, 1, 1] + \n",
    "                            [0, 0, 0, 0, 0, 0, 0, 0, 0, 0, 0, 0],\n",
    "                   'days': [91, 99, 76, 72, 57, 46, 63, 75 ] +\n",
    "                            [44, 62, 69,81, 69, 74, 61, 69, 65, 66, 56, 87,]})\n",
    "```\n",
    "\n",
    "Use the two methods above (random shuffling and hypothesis testing) to find out if the treatment A have an effect on patients or not. Do methods give the same answer on effects?"
   ]
  },
  {
   "cell_type": "code",
   "execution_count": null,
   "metadata": {},
   "outputs": [],
   "source": []
  }
 ],
 "metadata": {
  "kernelspec": {
   "display_name": "Python 3",
   "language": "python",
   "name": "python3"
  },
  "language_info": {
   "codemirror_mode": {
    "name": "ipython",
    "version": 3
   },
   "file_extension": ".py",
   "mimetype": "text/x-python",
   "name": "python",
   "nbconvert_exporter": "python",
   "pygments_lexer": "ipython3",
   "version": "3.8.3"
  }
 },
 "nbformat": 4,
 "nbformat_minor": 2
}
