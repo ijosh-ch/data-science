{
 "cells": [
  {
   "cell_type": "markdown",
   "metadata": {},
   "source": [
    "# Classification\n",
    "\n",
    "(reference Chapter 4 ISLR)"
   ]
  },
  {
   "cell_type": "code",
   "execution_count": 4,
   "metadata": {},
   "outputs": [],
   "source": [
    "#basic imports\n",
    "\n",
    "import pandas as pd\n",
    "import numpy as np\n",
    "import matplotlib as mpl\n",
    "import matplotlib.pyplot as plt\n",
    "import seaborn as sns\n",
    "\n",
    "import sklearn.linear_model as skl_lm\n",
    "from sklearn.discriminant_analysis import LinearDiscriminantAnalysis\n",
    "from sklearn.discriminant_analysis import QuadraticDiscriminantAnalysis\n",
    "from sklearn.metrics import confusion_matrix, classification_report, precision_score\n",
    "from sklearn import preprocessing\n",
    "from sklearn import neighbors\n",
    "\n",
    "import statsmodels.api as sm\n",
    "import statsmodels.formula.api as smf\n",
    "\n",
    "%matplotlib inline\n",
    "sns.set_style('white')\n",
    "# plt.style.use('seaborn-white')"
   ]
  },
  {
   "cell_type": "markdown",
   "metadata": {},
   "source": [
    "We first load in the Student Default database. See the documentation here: https://www.rdocumentation.org/packages/ISLR/versions/1.2/topics/Default\n"
   ]
  },
  {
   "cell_type": "code",
   "execution_count": 5,
   "metadata": {},
   "outputs": [
    {
     "name": "stdout",
     "output_type": "stream",
     "text": [
      "Requirement already satisfied: openpyxl in /Users/ijosh/Documents/GitHub/data-science/.venv/lib/python3.12/site-packages (3.1.5)\n",
      "Requirement already satisfied: et-xmlfile in /Users/ijosh/Documents/GitHub/data-science/.venv/lib/python3.12/site-packages (from openpyxl) (2.0.0)\n"
     ]
    }
   ],
   "source": [
    "# Install the openpyxl package\n",
    "%pip install openpyxl"
   ]
  },
  {
   "cell_type": "code",
   "execution_count": 6,
   "metadata": {},
   "outputs": [
    {
     "name": "stderr",
     "output_type": "stream",
     "text": [
      "/Users/ijosh/Documents/GitHub/data-science/.venv/lib/python3.12/site-packages/openpyxl/styles/stylesheet.py:237: UserWarning: Workbook contains no default style, apply openpyxl's default\n",
      "  warn(\"Workbook contains no default style, apply openpyxl's default\")\n"
     ]
    },
    {
     "data": {
      "text/html": [
       "<div>\n",
       "<style scoped>\n",
       "    .dataframe tbody tr th:only-of-type {\n",
       "        vertical-align: middle;\n",
       "    }\n",
       "\n",
       "    .dataframe tbody tr th {\n",
       "        vertical-align: top;\n",
       "    }\n",
       "\n",
       "    .dataframe thead th {\n",
       "        text-align: right;\n",
       "    }\n",
       "</style>\n",
       "<table border=\"1\" class=\"dataframe\">\n",
       "  <thead>\n",
       "    <tr style=\"text-align: right;\">\n",
       "      <th></th>\n",
       "      <th>Unnamed: 0</th>\n",
       "      <th>default</th>\n",
       "      <th>student</th>\n",
       "      <th>balance</th>\n",
       "      <th>income</th>\n",
       "    </tr>\n",
       "  </thead>\n",
       "  <tbody>\n",
       "    <tr>\n",
       "      <th>0</th>\n",
       "      <td>1</td>\n",
       "      <td>No</td>\n",
       "      <td>No</td>\n",
       "      <td>729.526495</td>\n",
       "      <td>44361.625074</td>\n",
       "    </tr>\n",
       "    <tr>\n",
       "      <th>1</th>\n",
       "      <td>2</td>\n",
       "      <td>No</td>\n",
       "      <td>Yes</td>\n",
       "      <td>817.180407</td>\n",
       "      <td>12106.134700</td>\n",
       "    </tr>\n",
       "    <tr>\n",
       "      <th>2</th>\n",
       "      <td>3</td>\n",
       "      <td>No</td>\n",
       "      <td>No</td>\n",
       "      <td>1073.549164</td>\n",
       "      <td>31767.138947</td>\n",
       "    </tr>\n",
       "    <tr>\n",
       "      <th>3</th>\n",
       "      <td>4</td>\n",
       "      <td>No</td>\n",
       "      <td>No</td>\n",
       "      <td>529.250605</td>\n",
       "      <td>35704.493935</td>\n",
       "    </tr>\n",
       "    <tr>\n",
       "      <th>4</th>\n",
       "      <td>5</td>\n",
       "      <td>No</td>\n",
       "      <td>No</td>\n",
       "      <td>785.655883</td>\n",
       "      <td>38463.495879</td>\n",
       "    </tr>\n",
       "    <tr>\n",
       "      <th>5</th>\n",
       "      <td>6</td>\n",
       "      <td>No</td>\n",
       "      <td>Yes</td>\n",
       "      <td>919.588530</td>\n",
       "      <td>7491.558572</td>\n",
       "    </tr>\n",
       "    <tr>\n",
       "      <th>6</th>\n",
       "      <td>7</td>\n",
       "      <td>No</td>\n",
       "      <td>No</td>\n",
       "      <td>825.513331</td>\n",
       "      <td>24905.226578</td>\n",
       "    </tr>\n",
       "    <tr>\n",
       "      <th>7</th>\n",
       "      <td>8</td>\n",
       "      <td>No</td>\n",
       "      <td>Yes</td>\n",
       "      <td>808.667504</td>\n",
       "      <td>17600.451344</td>\n",
       "    </tr>\n",
       "    <tr>\n",
       "      <th>8</th>\n",
       "      <td>9</td>\n",
       "      <td>No</td>\n",
       "      <td>No</td>\n",
       "      <td>1161.057854</td>\n",
       "      <td>37468.529288</td>\n",
       "    </tr>\n",
       "    <tr>\n",
       "      <th>9</th>\n",
       "      <td>10</td>\n",
       "      <td>No</td>\n",
       "      <td>No</td>\n",
       "      <td>0.000000</td>\n",
       "      <td>29275.268293</td>\n",
       "    </tr>\n",
       "    <tr>\n",
       "      <th>10</th>\n",
       "      <td>11</td>\n",
       "      <td>No</td>\n",
       "      <td>Yes</td>\n",
       "      <td>0.000000</td>\n",
       "      <td>21871.073089</td>\n",
       "    </tr>\n",
       "    <tr>\n",
       "      <th>11</th>\n",
       "      <td>12</td>\n",
       "      <td>No</td>\n",
       "      <td>Yes</td>\n",
       "      <td>1220.583753</td>\n",
       "      <td>13268.562221</td>\n",
       "    </tr>\n",
       "    <tr>\n",
       "      <th>12</th>\n",
       "      <td>13</td>\n",
       "      <td>No</td>\n",
       "      <td>No</td>\n",
       "      <td>237.045114</td>\n",
       "      <td>28251.695345</td>\n",
       "    </tr>\n",
       "    <tr>\n",
       "      <th>13</th>\n",
       "      <td>14</td>\n",
       "      <td>No</td>\n",
       "      <td>No</td>\n",
       "      <td>606.742343</td>\n",
       "      <td>44994.555849</td>\n",
       "    </tr>\n",
       "    <tr>\n",
       "      <th>14</th>\n",
       "      <td>15</td>\n",
       "      <td>No</td>\n",
       "      <td>No</td>\n",
       "      <td>1112.968401</td>\n",
       "      <td>23810.174050</td>\n",
       "    </tr>\n",
       "    <tr>\n",
       "      <th>15</th>\n",
       "      <td>16</td>\n",
       "      <td>No</td>\n",
       "      <td>No</td>\n",
       "      <td>286.232560</td>\n",
       "      <td>45042.413036</td>\n",
       "    </tr>\n",
       "    <tr>\n",
       "      <th>16</th>\n",
       "      <td>17</td>\n",
       "      <td>No</td>\n",
       "      <td>No</td>\n",
       "      <td>0.000000</td>\n",
       "      <td>50265.312354</td>\n",
       "    </tr>\n",
       "    <tr>\n",
       "      <th>17</th>\n",
       "      <td>18</td>\n",
       "      <td>No</td>\n",
       "      <td>Yes</td>\n",
       "      <td>527.540184</td>\n",
       "      <td>17636.539617</td>\n",
       "    </tr>\n",
       "    <tr>\n",
       "      <th>18</th>\n",
       "      <td>19</td>\n",
       "      <td>No</td>\n",
       "      <td>No</td>\n",
       "      <td>485.936864</td>\n",
       "      <td>61566.106118</td>\n",
       "    </tr>\n",
       "    <tr>\n",
       "      <th>19</th>\n",
       "      <td>20</td>\n",
       "      <td>No</td>\n",
       "      <td>No</td>\n",
       "      <td>1095.072735</td>\n",
       "      <td>26464.631389</td>\n",
       "    </tr>\n",
       "  </tbody>\n",
       "</table>\n",
       "</div>"
      ],
      "text/plain": [
       "    Unnamed: 0 default student      balance        income\n",
       "0            1      No      No   729.526495  44361.625074\n",
       "1            2      No     Yes   817.180407  12106.134700\n",
       "2            3      No      No  1073.549164  31767.138947\n",
       "3            4      No      No   529.250605  35704.493935\n",
       "4            5      No      No   785.655883  38463.495879\n",
       "5            6      No     Yes   919.588530   7491.558572\n",
       "6            7      No      No   825.513331  24905.226578\n",
       "7            8      No     Yes   808.667504  17600.451344\n",
       "8            9      No      No  1161.057854  37468.529288\n",
       "9           10      No      No     0.000000  29275.268293\n",
       "10          11      No     Yes     0.000000  21871.073089\n",
       "11          12      No     Yes  1220.583753  13268.562221\n",
       "12          13      No      No   237.045114  28251.695345\n",
       "13          14      No      No   606.742343  44994.555849\n",
       "14          15      No      No  1112.968401  23810.174050\n",
       "15          16      No      No   286.232560  45042.413036\n",
       "16          17      No      No     0.000000  50265.312354\n",
       "17          18      No     Yes   527.540184  17636.539617\n",
       "18          19      No      No   485.936864  61566.106118\n",
       "19          20      No      No  1095.072735  26464.631389"
      ]
     },
     "execution_count": 6,
     "metadata": {},
     "output_type": "execute_result"
    }
   ],
   "source": [
    "df = pd.read_excel('./Data/Default.xlsx')\n",
    "df.head(20)"
   ]
  },
  {
   "cell_type": "code",
   "execution_count": 9,
   "metadata": {},
   "outputs": [
    {
     "data": {
      "text/html": [
       "<div>\n",
       "<style scoped>\n",
       "    .dataframe tbody tr th:only-of-type {\n",
       "        vertical-align: middle;\n",
       "    }\n",
       "\n",
       "    .dataframe tbody tr th {\n",
       "        vertical-align: top;\n",
       "    }\n",
       "\n",
       "    .dataframe thead th {\n",
       "        text-align: right;\n",
       "    }\n",
       "</style>\n",
       "<table border=\"1\" class=\"dataframe\">\n",
       "  <thead>\n",
       "    <tr style=\"text-align: right;\">\n",
       "      <th></th>\n",
       "      <th>Unnamed: 0</th>\n",
       "      <th>default</th>\n",
       "      <th>student</th>\n",
       "      <th>balance</th>\n",
       "      <th>income</th>\n",
       "      <th>default2</th>\n",
       "      <th>student2</th>\n",
       "    </tr>\n",
       "  </thead>\n",
       "  <tbody>\n",
       "    <tr>\n",
       "      <th>0</th>\n",
       "      <td>1</td>\n",
       "      <td>No</td>\n",
       "      <td>No</td>\n",
       "      <td>729.526495</td>\n",
       "      <td>44361.625074</td>\n",
       "      <td>0</td>\n",
       "      <td>0</td>\n",
       "    </tr>\n",
       "    <tr>\n",
       "      <th>1</th>\n",
       "      <td>2</td>\n",
       "      <td>No</td>\n",
       "      <td>Yes</td>\n",
       "      <td>817.180407</td>\n",
       "      <td>12106.134700</td>\n",
       "      <td>0</td>\n",
       "      <td>1</td>\n",
       "    </tr>\n",
       "    <tr>\n",
       "      <th>2</th>\n",
       "      <td>3</td>\n",
       "      <td>No</td>\n",
       "      <td>No</td>\n",
       "      <td>1073.549164</td>\n",
       "      <td>31767.138947</td>\n",
       "      <td>0</td>\n",
       "      <td>0</td>\n",
       "    </tr>\n",
       "    <tr>\n",
       "      <th>3</th>\n",
       "      <td>4</td>\n",
       "      <td>No</td>\n",
       "      <td>No</td>\n",
       "      <td>529.250605</td>\n",
       "      <td>35704.493935</td>\n",
       "      <td>0</td>\n",
       "      <td>0</td>\n",
       "    </tr>\n",
       "    <tr>\n",
       "      <th>4</th>\n",
       "      <td>5</td>\n",
       "      <td>No</td>\n",
       "      <td>No</td>\n",
       "      <td>785.655883</td>\n",
       "      <td>38463.495879</td>\n",
       "      <td>0</td>\n",
       "      <td>0</td>\n",
       "    </tr>\n",
       "    <tr>\n",
       "      <th>5</th>\n",
       "      <td>6</td>\n",
       "      <td>No</td>\n",
       "      <td>Yes</td>\n",
       "      <td>919.588530</td>\n",
       "      <td>7491.558572</td>\n",
       "      <td>0</td>\n",
       "      <td>1</td>\n",
       "    </tr>\n",
       "    <tr>\n",
       "      <th>6</th>\n",
       "      <td>7</td>\n",
       "      <td>No</td>\n",
       "      <td>No</td>\n",
       "      <td>825.513331</td>\n",
       "      <td>24905.226578</td>\n",
       "      <td>0</td>\n",
       "      <td>0</td>\n",
       "    </tr>\n",
       "    <tr>\n",
       "      <th>7</th>\n",
       "      <td>8</td>\n",
       "      <td>No</td>\n",
       "      <td>Yes</td>\n",
       "      <td>808.667504</td>\n",
       "      <td>17600.451344</td>\n",
       "      <td>0</td>\n",
       "      <td>1</td>\n",
       "    </tr>\n",
       "    <tr>\n",
       "      <th>8</th>\n",
       "      <td>9</td>\n",
       "      <td>No</td>\n",
       "      <td>No</td>\n",
       "      <td>1161.057854</td>\n",
       "      <td>37468.529288</td>\n",
       "      <td>0</td>\n",
       "      <td>0</td>\n",
       "    </tr>\n",
       "    <tr>\n",
       "      <th>9</th>\n",
       "      <td>10</td>\n",
       "      <td>No</td>\n",
       "      <td>No</td>\n",
       "      <td>0.000000</td>\n",
       "      <td>29275.268293</td>\n",
       "      <td>0</td>\n",
       "      <td>0</td>\n",
       "    </tr>\n",
       "    <tr>\n",
       "      <th>10</th>\n",
       "      <td>11</td>\n",
       "      <td>No</td>\n",
       "      <td>Yes</td>\n",
       "      <td>0.000000</td>\n",
       "      <td>21871.073089</td>\n",
       "      <td>0</td>\n",
       "      <td>1</td>\n",
       "    </tr>\n",
       "    <tr>\n",
       "      <th>11</th>\n",
       "      <td>12</td>\n",
       "      <td>No</td>\n",
       "      <td>Yes</td>\n",
       "      <td>1220.583753</td>\n",
       "      <td>13268.562221</td>\n",
       "      <td>0</td>\n",
       "      <td>1</td>\n",
       "    </tr>\n",
       "    <tr>\n",
       "      <th>12</th>\n",
       "      <td>13</td>\n",
       "      <td>No</td>\n",
       "      <td>No</td>\n",
       "      <td>237.045114</td>\n",
       "      <td>28251.695345</td>\n",
       "      <td>0</td>\n",
       "      <td>0</td>\n",
       "    </tr>\n",
       "    <tr>\n",
       "      <th>13</th>\n",
       "      <td>14</td>\n",
       "      <td>No</td>\n",
       "      <td>No</td>\n",
       "      <td>606.742343</td>\n",
       "      <td>44994.555849</td>\n",
       "      <td>0</td>\n",
       "      <td>0</td>\n",
       "    </tr>\n",
       "    <tr>\n",
       "      <th>14</th>\n",
       "      <td>15</td>\n",
       "      <td>No</td>\n",
       "      <td>No</td>\n",
       "      <td>1112.968401</td>\n",
       "      <td>23810.174050</td>\n",
       "      <td>0</td>\n",
       "      <td>0</td>\n",
       "    </tr>\n",
       "  </tbody>\n",
       "</table>\n",
       "</div>"
      ],
      "text/plain": [
       "    Unnamed: 0 default student      balance        income  default2  student2\n",
       "0            1      No      No   729.526495  44361.625074         0         0\n",
       "1            2      No     Yes   817.180407  12106.134700         0         1\n",
       "2            3      No      No  1073.549164  31767.138947         0         0\n",
       "3            4      No      No   529.250605  35704.493935         0         0\n",
       "4            5      No      No   785.655883  38463.495879         0         0\n",
       "5            6      No     Yes   919.588530   7491.558572         0         1\n",
       "6            7      No      No   825.513331  24905.226578         0         0\n",
       "7            8      No     Yes   808.667504  17600.451344         0         1\n",
       "8            9      No      No  1161.057854  37468.529288         0         0\n",
       "9           10      No      No     0.000000  29275.268293         0         0\n",
       "10          11      No     Yes     0.000000  21871.073089         0         1\n",
       "11          12      No     Yes  1220.583753  13268.562221         0         1\n",
       "12          13      No      No   237.045114  28251.695345         0         0\n",
       "13          14      No      No   606.742343  44994.555849         0         0\n",
       "14          15      No      No  1112.968401  23810.174050         0         0"
      ]
     },
     "execution_count": 9,
     "metadata": {},
     "output_type": "execute_result"
    }
   ],
   "source": [
    "#recode the categorical values in default and student columsn to numerals\n",
    "#by adding the 'default2' and 'student2' columns\n",
    "df['default2'] = df.default.factorize()[0]\n",
    "df['student2'] = df.student.factorize()[0]\n",
    "df.head(15)\n",
    "#verify that No is coded as 0 and Yes = 1"
   ]
  },
  {
   "cell_type": "code",
   "execution_count": 11,
   "metadata": {},
   "outputs": [
    {
     "data": {
      "image/png": "[encoded data removed]",
      "text/plain": [
       "<Figure size 1800x600 with 3 Axes>"
      ]
     },
     "metadata": {},
     "output_type": "display_data"
    }
   ],
   "source": [
    "c_palette = {'No':'lightblue', 'Yes':'orange'}\n",
    "\n",
    "# Create subplots\n",
    "f, (ax1, ax2, ax3) = plt.subplots(1, 3, figsize=(18, 6))\n",
    "plt.tight_layout(pad=1, w_pad=5, h_pad=1.0)\n",
    "\n",
    "# Plot the boxplots\n",
    "sns.boxplot(x='default', y='balance', hue='default', data=df, orient='v', ax=ax1, palette=c_palette, legend=False)\n",
    "sns.boxplot(x='default', y='income', hue='default', data=df, orient='v', ax=ax2, palette=c_palette, legend=False)\n",
    "sns.boxplot(x='default', y='student2', hue='default', data=df, orient='v', ax=ax3, palette=c_palette, legend=False)\n",
    "\n",
    "# Set titles for each subplot\n",
    "ax1.set_title('Balance by Default')\n",
    "ax2.set_title('Income by Default')\n",
    "ax3.set_title('Student by Default')\n",
    "\n",
    "# Set the main title and center it\n",
    "plt.suptitle('Comparison of Balance, Income, and Student by Default', x=0.5, ha='center')\n",
    "\n",
    "# Show the plot\n",
    "plt.show()"
   ]
  },
  {
   "cell_type": "markdown",
   "metadata": {},
   "source": [
    "# Logistic Regression (Scikit-Learn)"
   ]
  },
  {
   "cell_type": "code",
   "execution_count": 12,
   "metadata": {},
   "outputs": [
    {
     "name": "stdout",
     "output_type": "stream",
     "text": [
      "[[ 729.52649521]\n",
      " [ 817.18040656]\n",
      " [1073.54916401]\n",
      " [ 529.25060475]\n",
      " [ 785.65588293]]\n",
      "\n",
      "Comment: \n",
      "The values in the balance column have been reshaped to a 2D array.\n",
      "Since, LogisticRegression() expects a 2D array as input.\n"
     ]
    }
   ],
   "source": [
    "X_train = df.balance.values.reshape(-1,1)\n",
    "\n",
    "# Print the head of the X_train\n",
    "print(X_train[0:5])\n",
    "\n",
    "print(\"\\nComment: \\nThe values in the balance column have been reshaped to a 2D array.\\nSince, LogisticRegression() expects a 2D array as input.\")"
   ]
  },
  {
   "cell_type": "code",
   "execution_count": 13,
   "metadata": {},
   "outputs": [
    {
     "name": "stdout",
     "output_type": "stream",
     "text": [
      "0    0\n",
      "1    0\n",
      "2    0\n",
      "3    0\n",
      "4    0\n",
      "Name: default2, dtype: int64\n"
     ]
    }
   ],
   "source": [
    "y = df.default2 #target variable (Converted values from Yes or No to be 1 or 0)\n",
    "\n",
    "# Print the head of the y_train\n",
    "print(y[0:5])"
   ]
  },
  {
   "cell_type": "code",
   "execution_count": 14,
   "metadata": {},
   "outputs": [
    {
     "name": "stdout",
     "output_type": "stream",
     "text": [
      "LogisticRegression(solver='newton-cg')\n",
      "\n",
      "classes:  [0 1]\n",
      "Comment: This shows the unique classes in the target variable y.\n",
      "[0 1]: Indicates that the target variable has two classes: 0 (No) and 1 (Yes). These are the binary outcomes that the logistic regression model is predicting.\n",
      "\n",
      "coefficients:  [[0.00542374]]\n",
      "intercept : [-10.52598837]\n"
     ]
    }
   ],
   "source": [
    "# The logistic regression model\n",
    "clf = skl_lm.LogisticRegression(solver='newton-cg')\n",
    "clf.fit(X_train, y)\n",
    "\n",
    "print(clf)\n",
    "print('\\nclasses: ', clf.classes_)\n",
    "print('Comment: This shows the unique classes in the target variable y.')\n",
    "print('[0 1]: Indicates that the target variable has two classes: 0 (No) and 1 (Yes). These are the binary outcomes that the logistic regression model is predicting.')\n",
    "\n",
    "print('\\ncoefficients: ', clf.coef_)\n",
    "print('intercept :', clf.intercept_)"
   ]
  },
  {
   "cell_type": "markdown",
   "metadata": {},
   "source": [
    "# Logistic Regression (Statsmodel)"
   ]
  },
  {
   "cell_type": "code",
   "execution_count": 146,
   "metadata": {},
   "outputs": [
    {
     "data": {
      "text/html": [
       "<div>\n",
       "<style scoped>\n",
       "    .dataframe tbody tr th:only-of-type {\n",
       "        vertical-align: middle;\n",
       "    }\n",
       "\n",
       "    .dataframe tbody tr th {\n",
       "        vertical-align: top;\n",
       "    }\n",
       "\n",
       "    .dataframe thead th {\n",
       "        text-align: right;\n",
       "    }\n",
       "</style>\n",
       "<table border=\"1\" class=\"dataframe\">\n",
       "  <thead>\n",
       "    <tr style=\"text-align: right;\">\n",
       "      <th></th>\n",
       "      <th>const</th>\n",
       "      <th>balance</th>\n",
       "    </tr>\n",
       "  </thead>\n",
       "  <tbody>\n",
       "    <tr>\n",
       "      <th>0</th>\n",
       "      <td>1.0</td>\n",
       "      <td>729.526495</td>\n",
       "    </tr>\n",
       "    <tr>\n",
       "      <th>1</th>\n",
       "      <td>1.0</td>\n",
       "      <td>817.180407</td>\n",
       "    </tr>\n",
       "    <tr>\n",
       "      <th>2</th>\n",
       "      <td>1.0</td>\n",
       "      <td>1073.549164</td>\n",
       "    </tr>\n",
       "    <tr>\n",
       "      <th>3</th>\n",
       "      <td>1.0</td>\n",
       "      <td>529.250605</td>\n",
       "    </tr>\n",
       "    <tr>\n",
       "      <th>4</th>\n",
       "      <td>1.0</td>\n",
       "      <td>785.655883</td>\n",
       "    </tr>\n",
       "  </tbody>\n",
       "</table>\n",
       "</div>"
      ],
      "text/plain": [
       "   const      balance\n",
       "0    1.0   729.526495\n",
       "1    1.0   817.180407\n",
       "2    1.0  1073.549164\n",
       "3    1.0   529.250605\n",
       "4    1.0   785.655883"
      ]
     },
     "execution_count": 146,
     "metadata": {},
     "output_type": "execute_result"
    }
   ],
   "source": [
    "X_train = sm.add_constant(df.balance)\n",
    "X_train.head()"
   ]
  },
  {
   "cell_type": "code",
   "execution_count": 21,
   "metadata": {},
   "outputs": [
    {
     "name": "stdout",
     "output_type": "stream",
     "text": [
      "Optimization terminated successfully.\n",
      "         Current function value: 0.145834\n",
      "         Iterations 7\n"
     ]
    },
    {
     "data": {
      "text/html": [
       "<div>\n",
       "<style scoped>\n",
       "    .dataframe tbody tr th:only-of-type {\n",
       "        vertical-align: middle;\n",
       "    }\n",
       "\n",
       "    .dataframe tbody tr th {\n",
       "        vertical-align: top;\n",
       "    }\n",
       "\n",
       "    .dataframe thead th {\n",
       "        text-align: right;\n",
       "    }\n",
       "</style>\n",
       "<table border=\"1\" class=\"dataframe\">\n",
       "  <thead>\n",
       "    <tr style=\"text-align: right;\">\n",
       "      <th></th>\n",
       "      <th>Coef.</th>\n",
       "      <th>Std.Err.</th>\n",
       "      <th>z</th>\n",
       "      <th>P&gt;|z|</th>\n",
       "      <th>[0.025</th>\n",
       "      <th>0.975]</th>\n",
       "    </tr>\n",
       "  </thead>\n",
       "  <tbody>\n",
       "    <tr>\n",
       "      <th>const</th>\n",
       "      <td>-3.094149</td>\n",
       "      <td>0.146257</td>\n",
       "      <td>-21.155566</td>\n",
       "      <td>2.452272e-99</td>\n",
       "      <td>-3.380808</td>\n",
       "      <td>-2.807491e+00</td>\n",
       "    </tr>\n",
       "    <tr>\n",
       "      <th>income</th>\n",
       "      <td>-0.000008</td>\n",
       "      <td>0.000004</td>\n",
       "      <td>-1.985227</td>\n",
       "      <td>4.711917e-02</td>\n",
       "      <td>-0.000017</td>\n",
       "      <td>-1.062925e-07</td>\n",
       "    </tr>\n",
       "  </tbody>\n",
       "</table>\n",
       "</div>"
      ],
      "text/plain": [
       "           Coef.  Std.Err.          z         P>|z|    [0.025        0.975]\n",
       "const  -3.094149  0.146257 -21.155566  2.452272e-99 -3.380808 -2.807491e+00\n",
       "income -0.000008  0.000004  -1.985227  4.711917e-02 -0.000017 -1.062925e-07"
      ]
     },
     "execution_count": 21,
     "metadata": {},
     "output_type": "execute_result"
    }
   ],
   "source": [
    "est = sm.Logit(y, X_train).fit()\n",
    "\n",
    "est.summary2().tables[1]"
   ]
  },
  {
   "cell_type": "markdown",
   "metadata": {},
   "source": [
    "### Question \n",
    "\n",
    "1. Explain the values obtained especially in relation to the Z and p values"
   ]
  },
  {
   "cell_type": "markdown",
   "metadata": {},
   "source": [
    "### Answer\n",
    "1. Relation between `X = balance` and `Y = default`\n",
    "   - **Intercept**: The intercept term is highly significant, with a negative coefficient indicating low log-odds of defaulting when balance is 0.\n",
    "   - **Balance**: The balance feature is highly significant, with a positive coefficient indicating that higher balances are associated with higher log-odds of defaulting.\n",
    "   - **Z-values and P-values**: Both the intercept and balance coefficients have very high z-values and extremely small p-values, indicating strong evidence against the null hypothesis that the coefficients are zero.\n",
    "   - **Confidence Intervals**: The 95% confidence intervals for both coefficients do not include zero, further confirming their significance.\n",
    "\n",
    "   **Conclusion**:\n",
    "   - **Impact of Balance on Default**: The balance significantly impacts the default status. Higher balances are associated with higher log-odds of defaulting.\n",
    "   - **Null Hypothesis**: The null hypothesis that the balance coefficient is zero is strongly rejected based on the very high z-value, extremely small p-value, and confidence intervals that do not include zero.\n"
   ]
  },
  {
   "cell_type": "markdown",
   "metadata": {},
   "source": [
    "2. Rerun the regression with student2 column. Also explain the results in relation to Z and p."
   ]
  },
  {
   "cell_type": "code",
   "execution_count": 16,
   "metadata": {},
   "outputs": [
    {
     "name": "stdout",
     "output_type": "stream",
     "text": [
      "LogisticRegression(solver='newton-cg')\n",
      "\n",
      "classes:  [0 1]\n",
      "coefficients:  [[0.39880286]]\n",
      "intercept : [-3.50133017]\n"
     ]
    }
   ],
   "source": [
    "X_train = df.student2.values.reshape(-1,1)\n",
    "\n",
    "clf_student = skl_lm.LogisticRegression(solver='newton-cg')\n",
    "\n",
    "clf_student.fit(X_train, y)\n",
    "print(clf_student)\n",
    "print('\\nclasses: ', clf_student.classes_)\n",
    "print('coefficients: ', clf_student.coef_)\n",
    "print('intercept :', clf_student.intercept_)"
   ]
  },
  {
   "cell_type": "code",
   "execution_count": 17,
   "metadata": {},
   "outputs": [
    {
     "name": "stdout",
     "output_type": "stream",
     "text": [
      "Optimization terminated successfully.\n",
      "         Current function value: 0.145434\n",
      "         Iterations 7\n"
     ]
    },
    {
     "data": {
      "text/html": [
       "<div>\n",
       "<style scoped>\n",
       "    .dataframe tbody tr th:only-of-type {\n",
       "        vertical-align: middle;\n",
       "    }\n",
       "\n",
       "    .dataframe tbody tr th {\n",
       "        vertical-align: top;\n",
       "    }\n",
       "\n",
       "    .dataframe thead th {\n",
       "        text-align: right;\n",
       "    }\n",
       "</style>\n",
       "<table border=\"1\" class=\"dataframe\">\n",
       "  <thead>\n",
       "    <tr style=\"text-align: right;\">\n",
       "      <th></th>\n",
       "      <th>Coef.</th>\n",
       "      <th>Std.Err.</th>\n",
       "      <th>z</th>\n",
       "      <th>P&gt;|z|</th>\n",
       "      <th>[0.025</th>\n",
       "      <th>0.975]</th>\n",
       "    </tr>\n",
       "  </thead>\n",
       "  <tbody>\n",
       "    <tr>\n",
       "      <th>const</th>\n",
       "      <td>-3.504128</td>\n",
       "      <td>0.070713</td>\n",
       "      <td>-49.554094</td>\n",
       "      <td>0.000000</td>\n",
       "      <td>-3.642723</td>\n",
       "      <td>-3.365532</td>\n",
       "    </tr>\n",
       "    <tr>\n",
       "      <th>student2</th>\n",
       "      <td>0.404887</td>\n",
       "      <td>0.115019</td>\n",
       "      <td>3.520177</td>\n",
       "      <td>0.000431</td>\n",
       "      <td>0.179454</td>\n",
       "      <td>0.630320</td>\n",
       "    </tr>\n",
       "  </tbody>\n",
       "</table>\n",
       "</div>"
      ],
      "text/plain": [
       "             Coef.  Std.Err.          z     P>|z|    [0.025    0.975]\n",
       "const    -3.504128  0.070713 -49.554094  0.000000 -3.642723 -3.365532\n",
       "student2  0.404887  0.115019   3.520177  0.000431  0.179454  0.630320"
      ]
     },
     "execution_count": 17,
     "metadata": {},
     "output_type": "execute_result"
    }
   ],
   "source": [
    "X_train = sm.add_constant(df.student2)\n",
    "est2 = sm.Logit(y, X_train).fit()\n",
    "\n",
    "est2.summary2().tables[1]"
   ]
  },
  {
   "cell_type": "markdown",
   "metadata": {},
   "source": [
    "### Answer\n",
    "The high z-value and very small p-value for the student coefficient provide strong evidence against the null hypothesis, indicating that being a student significantly impacts the log-odds of defaulting."
   ]
  },
  {
   "cell_type": "markdown",
   "metadata": {},
   "source": [
    "# Multiple Logistic Regression (Statsmodel)"
   ]
  },
  {
   "cell_type": "code",
   "execution_count": 18,
   "metadata": {},
   "outputs": [
    {
     "name": "stdout",
     "output_type": "stream",
     "text": [
      "Optimization terminated successfully.\n",
      "         Current function value: 0.078577\n",
      "         Iterations 10\n"
     ]
    },
    {
     "data": {
      "text/html": [
       "<div>\n",
       "<style scoped>\n",
       "    .dataframe tbody tr th:only-of-type {\n",
       "        vertical-align: middle;\n",
       "    }\n",
       "\n",
       "    .dataframe tbody tr th {\n",
       "        vertical-align: top;\n",
       "    }\n",
       "\n",
       "    .dataframe thead th {\n",
       "        text-align: right;\n",
       "    }\n",
       "</style>\n",
       "<table border=\"1\" class=\"dataframe\">\n",
       "  <thead>\n",
       "    <tr style=\"text-align: right;\">\n",
       "      <th></th>\n",
       "      <th>Coef.</th>\n",
       "      <th>Std.Err.</th>\n",
       "      <th>z</th>\n",
       "      <th>P&gt;|z|</th>\n",
       "      <th>[0.025</th>\n",
       "      <th>0.975]</th>\n",
       "    </tr>\n",
       "  </thead>\n",
       "  <tbody>\n",
       "    <tr>\n",
       "      <th>const</th>\n",
       "      <td>-10.869045</td>\n",
       "      <td>0.492273</td>\n",
       "      <td>-22.079320</td>\n",
       "      <td>4.995499e-108</td>\n",
       "      <td>-11.833882</td>\n",
       "      <td>-9.904209</td>\n",
       "    </tr>\n",
       "    <tr>\n",
       "      <th>balance</th>\n",
       "      <td>0.005737</td>\n",
       "      <td>0.000232</td>\n",
       "      <td>24.736506</td>\n",
       "      <td>4.331521e-135</td>\n",
       "      <td>0.005282</td>\n",
       "      <td>0.006191</td>\n",
       "    </tr>\n",
       "    <tr>\n",
       "      <th>income</th>\n",
       "      <td>0.000003</td>\n",
       "      <td>0.000008</td>\n",
       "      <td>0.369808</td>\n",
       "      <td>7.115254e-01</td>\n",
       "      <td>-0.000013</td>\n",
       "      <td>0.000019</td>\n",
       "    </tr>\n",
       "    <tr>\n",
       "      <th>student2</th>\n",
       "      <td>-0.646776</td>\n",
       "      <td>0.236257</td>\n",
       "      <td>-2.737595</td>\n",
       "      <td>6.189022e-03</td>\n",
       "      <td>-1.109831</td>\n",
       "      <td>-0.183721</td>\n",
       "    </tr>\n",
       "  </tbody>\n",
       "</table>\n",
       "</div>"
      ],
      "text/plain": [
       "              Coef.  Std.Err.          z          P>|z|     [0.025    0.975]\n",
       "const    -10.869045  0.492273 -22.079320  4.995499e-108 -11.833882 -9.904209\n",
       "balance    0.005737  0.000232  24.736506  4.331521e-135   0.005282  0.006191\n",
       "income     0.000003  0.000008   0.369808   7.115254e-01  -0.000013  0.000019\n",
       "student2  -0.646776  0.236257  -2.737595   6.189022e-03  -1.109831 -0.183721"
      ]
     },
     "execution_count": 18,
     "metadata": {},
     "output_type": "execute_result"
    }
   ],
   "source": [
    "X_train = sm.add_constant(df[['balance', 'income', 'student2']])\n",
    "\n",
    "est3 = sm.Logit(y, X_train).fit()\n",
    "est3.summary2().tables[1]"
   ]
  },
  {
   "cell_type": "code",
   "execution_count": 19,
   "metadata": {},
   "outputs": [
    {
     "name": "stdout",
     "output_type": "stream",
     "text": [
      "LogisticRegression(solver='newton-cg')\n",
      "\n",
      "classes:  [0 1]\n",
      "coefficients:  [[-8.66293255e-06]]\n",
      "intercept : [-3.08248665]\n"
     ]
    },
    {
     "name": "stderr",
     "output_type": "stream",
     "text": [
      "/Users/ijosh/Documents/GitHub/data-science/.venv/lib/python3.12/site-packages/scipy/optimize/_linesearch.py:313: LineSearchWarning: The line search algorithm did not converge\n",
      "  alpha_star, phi_star, old_fval, derphi_star = scalar_search_wolfe2(\n",
      "/Users/ijosh/Documents/GitHub/data-science/.venv/lib/python3.12/site-packages/sklearn/utils/optimize.py:74: LineSearchWarning: The line search algorithm did not converge\n",
      "  ret = line_search_wolfe2(\n"
     ]
    }
   ],
   "source": [
    "X_train = df.income.values.reshape(-1,1)\n",
    "\n",
    "clf_balance_student = skl_lm.LogisticRegression(solver='newton-cg')\n",
    "\n",
    "clf_balance_student.fit(X_train, y)\n",
    "print(clf_balance_student)\n",
    "print('\\nclasses: ', clf_balance_student.classes_)\n",
    "print('coefficients: ', clf_balance_student.coef_)\n",
    "print('intercept :', clf_balance_student.intercept_)"
   ]
  },
  {
   "cell_type": "code",
   "execution_count": 20,
   "metadata": {},
   "outputs": [
    {
     "name": "stdout",
     "output_type": "stream",
     "text": [
      "Optimization terminated successfully.\n",
      "         Current function value: 0.145834\n",
      "         Iterations 7\n"
     ]
    },
    {
     "data": {
      "text/html": [
       "<div>\n",
       "<style scoped>\n",
       "    .dataframe tbody tr th:only-of-type {\n",
       "        vertical-align: middle;\n",
       "    }\n",
       "\n",
       "    .dataframe tbody tr th {\n",
       "        vertical-align: top;\n",
       "    }\n",
       "\n",
       "    .dataframe thead th {\n",
       "        text-align: right;\n",
       "    }\n",
       "</style>\n",
       "<table border=\"1\" class=\"dataframe\">\n",
       "  <thead>\n",
       "    <tr style=\"text-align: right;\">\n",
       "      <th></th>\n",
       "      <th>Coef.</th>\n",
       "      <th>Std.Err.</th>\n",
       "      <th>z</th>\n",
       "      <th>P&gt;|z|</th>\n",
       "      <th>[0.025</th>\n",
       "      <th>0.975]</th>\n",
       "    </tr>\n",
       "  </thead>\n",
       "  <tbody>\n",
       "    <tr>\n",
       "      <th>const</th>\n",
       "      <td>-3.094149</td>\n",
       "      <td>0.146257</td>\n",
       "      <td>-21.155566</td>\n",
       "      <td>2.452272e-99</td>\n",
       "      <td>-3.380808</td>\n",
       "      <td>-2.807491e+00</td>\n",
       "    </tr>\n",
       "    <tr>\n",
       "      <th>income</th>\n",
       "      <td>-0.000008</td>\n",
       "      <td>0.000004</td>\n",
       "      <td>-1.985227</td>\n",
       "      <td>4.711917e-02</td>\n",
       "      <td>-0.000017</td>\n",
       "      <td>-1.062925e-07</td>\n",
       "    </tr>\n",
       "  </tbody>\n",
       "</table>\n",
       "</div>"
      ],
      "text/plain": [
       "           Coef.  Std.Err.          z         P>|z|    [0.025        0.975]\n",
       "const  -3.094149  0.146257 -21.155566  2.452272e-99 -3.380808 -2.807491e+00\n",
       "income -0.000008  0.000004  -1.985227  4.711917e-02 -0.000017 -1.062925e-07"
      ]
     },
     "execution_count": 20,
     "metadata": {},
     "output_type": "execute_result"
    }
   ],
   "source": [
    "X_train = sm.add_constant(df.income)\n",
    "est = sm.Logit(y, X_train).fit()\n",
    "\n",
    "est.summary2().tables[1]"
   ]
  },
  {
   "cell_type": "markdown",
   "metadata": {},
   "source": [
    "### Question \n",
    "1. Explain the values obtained especially in relation to the Z and p values above. Also compare the values obtained by single regression of students with the multiple regression.\n",
    "    \n",
    "    **Answer**:\n",
    "    - **Multiple Regression** :\n",
    "\n",
    "        The very high z-values and extremely small p-values for the balance coefficient in the multiple regression model provide strong evidence against the null hypothesis, indicating that balance significantly impacts the log-odds of defaulting. The high p-value for the income coefficient in the multiple regression model suggests that income does not significantly impact the log-odds of defaulting when accounting for balance and student status. The significant p-values for the student2 coefficient in both models indicate that being a student significantly impacts the log-odds of defaulting.\n",
    "\n",
    "    - **Comparison of Single and Multiple Regression**:\n",
    "\n",
    "      1. **Balance**:\n",
    "         - **Multiple Regression**: The balance coefficient is 0.005737 with a z-value of 24.736506 and a p-value of 4.331521e-135, indicating a significant positive impact on the log-odds of defaulting. Balance is not included in the single regressions provided.\n",
    "\n",
    "      2. **Income**:\n",
    "         - **Single Regression**: The income coefficient is -0.000008 with a z-value of -1.985227 and a p-value of 4.711917e-02, indicating a significant negative impact on the log-odds of defaulting.\n",
    "         - **Multiple Regression**: The income coefficient is 0.000003 with a z-value of 0.369808 and a p-value of 7.115254e-01, indicating that income does not have a significant impact on the log-odds of defaulting when accounting for balance and student status.\n",
    "\n",
    "      3. **Student2**:\n",
    "         - **Single Regression**: The student2 coefficient is 0.404887 with a z-value of 3.520177 and a p-value of 0.000431, indicating a significant positive impact on the log-odds of defaulting.\n",
    "         - **Multiple Regression**: The student2 coefficient is -0.646776 with a z-value of -2.737595 and a p-value of 6.189022e-03, indicating a significant negative impact on the log-odds of defaulting when accounting for balance and income.\n",
    "\n",
    "      4. **Intercept**:\n",
    "         - **Single Regression (income)**: The intercept is -3.094149 with a z-value of -21.155566 and a p-value of 2.452272e-99, indicating a significant negative impact on the log-odds of defaulting when income is 0.\n",
    "         - **Single Regression (student2)**: The intercept is -3.504128 with a z-value of -49.554094 and a p-value of 0.000000, indicating a significant negative impact on the log-odds of defaulting when student status is 0.\n",
    "         - **Multiple Regression**: The intercept is -10.869045 with a z-value of -22.079320 and a p-value of 4.995499e-108, indicating a significant negative impact on the log-odds of defaulting when balance, income, and student status are 0.\n",
    "\n",
    "      - **Conclusion**:\n",
    "\n",
    "        - **Balance**: The balance significantly impacts the log-odds of defaulting in the multiple regression model.\n",
    "        - **Income**: Income has a significant negative impact on the log-odds of defaulting in the single regression model but does not significantly impact the log-odds of defaulting in the multiple regression model.\n",
    "        - **Student2**: The student2 coefficient is significant in both single and multiple regression models, but the direction of the impact changes when accounting for balance and income in the multiple regression model.\n",
    "        - **Intercept**: The intercept is significant in all models, indicating a baseline log-odds of defaulting when the predictors are zero."
   ]
  },
  {
   "cell_type": "markdown",
   "metadata": {},
   "source": [
    "### Linear Discriminant Analysis\n"
   ]
  },
  {
   "cell_type": "code",
   "execution_count": 22,
   "metadata": {},
   "outputs": [
    {
     "data": {
      "text/html": [
       "<div>\n",
       "<style scoped>\n",
       "    .dataframe tbody tr th:only-of-type {\n",
       "        vertical-align: middle;\n",
       "    }\n",
       "\n",
       "    .dataframe tbody tr th {\n",
       "        vertical-align: top;\n",
       "    }\n",
       "\n",
       "    .dataframe thead th {\n",
       "        text-align: right;\n",
       "    }\n",
       "</style>\n",
       "<table border=\"1\" class=\"dataframe\">\n",
       "  <thead>\n",
       "    <tr style=\"text-align: right;\">\n",
       "      <th>True default status</th>\n",
       "      <th>No</th>\n",
       "      <th>Yes</th>\n",
       "    </tr>\n",
       "    <tr>\n",
       "      <th>Predicted default status</th>\n",
       "      <th></th>\n",
       "      <th></th>\n",
       "    </tr>\n",
       "  </thead>\n",
       "  <tbody>\n",
       "    <tr>\n",
       "      <th>No</th>\n",
       "      <td>9645</td>\n",
       "      <td>254</td>\n",
       "    </tr>\n",
       "    <tr>\n",
       "      <th>Yes</th>\n",
       "      <td>22</td>\n",
       "      <td>79</td>\n",
       "    </tr>\n",
       "  </tbody>\n",
       "</table>\n",
       "</div>"
      ],
      "text/plain": [
       "True default status         No  Yes\n",
       "Predicted default status           \n",
       "No                        9645  254\n",
       "Yes                         22   79"
      ]
     },
     "execution_count": 22,
     "metadata": {},
     "output_type": "execute_result"
    }
   ],
   "source": [
    "#using scikit-learn\n",
    "X = df[['balance', 'income', 'student2']].to_numpy()\n",
    "y = df.default2.to_numpy()\n",
    "\n",
    "lda = LinearDiscriminantAnalysis(solver='svd')\n",
    "y_pred = lda.fit(X, y).predict(X)\n",
    "\n",
    "df_ = pd.DataFrame({'True default status': y,\n",
    "                    'Predicted default status': y_pred})\n",
    "df_.replace(to_replace={0:'No', 1:'Yes'}, inplace=True)\n",
    "\n",
    "df_.groupby(['Predicted default status','True default status']).size().unstack('True default status')"
   ]
  },
  {
   "cell_type": "code",
   "execution_count": 23,
   "metadata": {},
   "outputs": [
    {
     "name": "stdout",
     "output_type": "stream",
     "text": [
      "              precision    recall  f1-score   support\n",
      "\n",
      "          No       0.97      1.00      0.99      9667\n",
      "         Yes       0.78      0.24      0.36       333\n",
      "\n",
      "    accuracy                           0.97     10000\n",
      "   macro avg       0.88      0.62      0.67     10000\n",
      "weighted avg       0.97      0.97      0.97     10000\n",
      "\n"
     ]
    }
   ],
   "source": [
    "print(classification_report(y, y_pred, target_names=['No', 'Yes']))"
   ]
  },
  {
   "cell_type": "markdown",
   "metadata": {},
   "source": [
    "### Question \n",
    "The above code uses the entire dataset to perform the fit function (Note: the fit function is where the parameters are learnt). For proper testing and evaluation the training and test data should be separated. Edit the code above so that only training data are used for fit() and predict() uses test data that was not used in training. Print the results out as in the sample above.\n",
    "\n",
    "1. Comment on the results obtained, i.e. the difference in the results and the reasons for it\n",
    "\n",
    "### Answer\n",
    "\n",
    "- **Difference in Results**:\n",
    "\n",
    "  - The model performs very well in predicting the \"No\" class with high precision (0.97) and recall (1.00).\n",
    "  - The model performs poorly in predicting the \"Yes\" class with lower precision (0.78) and very low recall (0.24).\n",
    "\n",
    "- **Reasons for the Difference**:\n",
    "\n",
    "  - Class Imbalance: The dataset is highly imbalanced, with a large number of \"No\" instances (9667) compared to \"Yes\" instances (333). This imbalance leads to the model being biased towards predicting the majority class (\"No\").\n",
    "  - Training and Testing Split: By separating the training and testing data, the model is evaluated on data it has not seen before, providing a more realistic assessment of its performance. The high accuracy (0.97) is primarily due to the model's ability to correctly predict the majority class.\n",
    "  - Recall for \"Yes\" Class: The low recall for the \"Yes\" class (0.24) indicates that the model misses many actual \"Yes\" instances, which is a common issue in imbalanced datasets.\n",
    "- **Summary**:\n",
    "  - The model shows high accuracy and performs well in predicting the majority class (\"No\").\n",
    "  - The model struggles to predict the minority class (\"Yes\"), resulting in lower precision and recall for this class.\n",
    "  - The class imbalance in the dataset significantly impacts the model's performance, highlighting the need for techniques to handle imbalanced data, such as resampling or using different evaluation metrics.\n",
    "\n"
   ]
  },
  {
   "cell_type": "markdown",
   "metadata": {},
   "source": [
    "### Quadratic Discriminant Analysis\n",
    "\n",
    "QDA can be performed with code sample as below:\n",
    "```\n",
    "qda = QuadraticDiscriminantAnalysis()\n",
    "pred = qda.fit(X_train, y_train).predict(X_test)\n",
    "```\n",
    "\n",
    "KNN can be performed with code sample as below:\n",
    "```\n",
    "knn = neighbors.KNeighborsClassifier(n_neighbors=1)\n",
    "pred = knn.fit(X_train, y_train).predict(X_test)\n",
    "```\n",
    "The output from both can be printed:\n",
    "```\n",
    "print(confusion_matrix(y_test, pred).T)\n",
    "print(classification_report(y_test, pred, digits=3))\n",
    "```\n",
    "\n",
    "### Question \n",
    "Split the dataset into train and test as earlier. Run the QDA and KNN.\n",
    "1. Compare and comments on the results between LDA,QDA and KNN. \n",
    "1. How do we select what K is for KNN? Which K value is best? "
   ]
  },
  {
   "cell_type": "code",
   "execution_count": 27,
   "metadata": {},
   "outputs": [],
   "source": [
    "import pandas as pd\n",
    "from sklearn.model_selection import train_test_split\n",
    "from sklearn.linear_model import LogisticRegression\n",
    "from sklearn.metrics import confusion_matrix, classification_report\n",
    "\n",
    "\n",
    "X_train, X_test, y_train, y_test = train_test_split(X, y, test_size=0.5, random_state=2)"
   ]
  },
  {
   "cell_type": "code",
   "execution_count": 28,
   "metadata": {},
   "outputs": [
    {
     "name": "stdout",
     "output_type": "stream",
     "text": [
      "[[4829  107]\n",
      " [  17   47]]\n",
      "              precision    recall  f1-score   support\n",
      "\n",
      "           0      0.978     0.996     0.987      4846\n",
      "           1      0.734     0.305     0.431       154\n",
      "\n",
      "    accuracy                          0.975      5000\n",
      "   macro avg      0.856     0.651     0.709      5000\n",
      "weighted avg      0.971     0.975     0.970      5000\n",
      "\n"
     ]
    }
   ],
   "source": [
    "qda = QuadraticDiscriminantAnalysis()\n",
    "pred = qda.fit(X_train, y_train).predict(X_test)\n",
    "\n",
    "print(confusion_matrix(y_test, pred).T)\n",
    "print(classification_report(y_test, pred, digits=3))"
   ]
  },
  {
   "cell_type": "code",
   "execution_count": 29,
   "metadata": {},
   "outputs": [
    {
     "name": "stdout",
     "output_type": "stream",
     "text": [
      "[[4722  111]\n",
      " [ 124   43]]\n",
      "              precision    recall  f1-score   support\n",
      "\n",
      "           0      0.977     0.974     0.976      4846\n",
      "           1      0.257     0.279     0.268       154\n",
      "\n",
      "    accuracy                          0.953      5000\n",
      "   macro avg      0.617     0.627     0.622      5000\n",
      "weighted avg      0.955     0.953     0.954      5000\n",
      "\n"
     ]
    }
   ],
   "source": [
    "knn = neighbors.KNeighborsClassifier(n_neighbors=1)\n",
    "pred = knn.fit(X_train, y_train).predict(X_test)\n",
    "\n",
    "print(confusion_matrix(y_test, pred).T)\n",
    "print(classification_report(y_test, pred, digits=3))"
   ]
  },
  {
   "cell_type": "markdown",
   "metadata": {},
   "source": [
    "### Answer\n",
    "\n",
    "1. Comparison and Comments:\n",
    "   1. LDA:\n",
    "        - Accuracy: 0.97\n",
    "        - Precision (No): 0.97\n",
    "        - Recall (No): 1.00\n",
    "        - Precision (Yes): 0.78\n",
    "        - Recall (Yes): 0.24\n",
    "        - Comment: LDA performs very well in predicting the \"No\" class with high precision and recall. However, it struggles with the \"Yes\" class, resulting in lower recall.\n",
    "    2. QDA:\n",
    "        - Accuracy: 0.975\n",
    "        - Precision (No): 0.978\n",
    "        - Recall (No): 0.996\n",
    "        - Precision (Yes): 0.734\n",
    "        - Recall (Yes): 0.305\n",
    "        - Comment: QDA also performs well in predicting the \"No\" class with high precision and recall. It performs better than LDA in predicting the \"Yes\" class, with higher precision and recall.\n",
    "    3. KNN:\n",
    "        - Accuracy: 0.953\n",
    "        - Precision (No): 0.977\n",
    "        - Recall (No): 0.974\n",
    "        - Precision (Yes): 0.257\n",
    "        - Recall (Yes): 0.279\n",
    "        - Comment: KNN performs well in predicting the \"No\" class but struggles significantly with the \"Yes\" class, resulting in low precision and recall. This indicates that KNN may not be the best choice for this imbalanced dataset.\n",
    "2. Selecting K for KNN:\n",
    "    1. Cross-Validation:\n",
    "        Use cross-validation to evaluate the performance of different K values. Split the training data into multiple folds and evaluate the model's performance on each fold. Choose the K value that results in the best average performance across all folds.\n",
    "    2. Grid Search:\n",
    "        Perform a grid search over a range of K values to find the optimal K. This involves training and evaluating the model for each K value and selecting the one that yields the best performance metrics (e.g., accuracy, precision, recall, F1-score).\n",
    "    3. Elbow Method:\n",
    "        Plot the error rate or accuracy against different K values. Look for an \"elbow\" point where the error rate starts to decrease more slowly or the accuracy starts to plateau. This point often indicates a good choice for K.\n",
    "\n",
    "    **Best K Value**:\n",
    "    The best K value is the one that balances bias and variance, providing the best generalization performance on unseen data. It is typically determined through cross-validation or grid search."
   ]
  }
 ],
 "metadata": {
  "kernelspec": {
   "display_name": ".venv",
   "language": "python",
   "name": "python3"
  },
  "language_info": {
   "codemirror_mode": {
    "name": "ipython",
    "version": 3
   },
   "file_extension": ".py",
   "mimetype": "text/x-python",
   "name": "python",
   "nbconvert_exporter": "python",
   "pygments_lexer": "ipython3",
   "version": "3.12.3"
  }
 },
 "nbformat": 4,
 "nbformat_minor": 2
}
