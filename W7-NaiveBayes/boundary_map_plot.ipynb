{
 "cells": [
  {
   "cell_type": "markdown",
   "metadata": {},
   "source": [
    "### Plotting class boundaries\n",
    "\n",
    "Explaination of the code below"
   ]
  },
  {
   "cell_type": "markdown",
   "metadata": {},
   "source": [
    "    import matplotlib.pyplot as plt\n",
    "    from matplotlib.colors import ListedColormap  \n",
    "    import numpy as np\n",
    "    \n",
    "    V1=0 #X0\n",
    "    V2=2 #X1\n",
    "\n",
    "    X1, X2 = np.meshgrid(np.arange(start = X[:, V1].min() - 1, stop = X[:, V1].max() + 1, step = 0.01), np.arange(start = X[:, V2].min() - 1, stop = X[:, V2].max() + 1, step = 0.01))  \n",
    "    \n",
    "    plt.contourf(X1, X2, gb.predict(np.array([X1.ravel(), X2.ravel()]).T).reshape(X1.shape),  \n",
    "                 alpha = 0.75, cmap = ListedColormap(('red', 'blue','green'))  )\n",
    "    \n",
    "    plt.xlim(X1.min(), X1.max())  \n",
    "    plt.ylim(X2.min(), X2.max())  \n",
    "    \n",
    "    for i, j in enumerate(np.unique(iris.target)):  \n",
    "        plt.scatter(X[iris.target == j, V1], X[iris.target == j, V2],  \n",
    "                    c = ['red','blue','lightgreen'][i], label = j)  \n",
    "    plt.title('Naive Bayes (Training set)')  \n",
    "    plt.xlabel('X0')  \n",
    "    plt.ylabel('X1')  \n",
    "    plt.legend()  \n",
    "    plt.show()"
   ]
  },
  {
   "cell_type": "markdown",
   "metadata": {},
   "source": [
    "X stores the data set and X[:, V1] stores the attribute at column V1\n",
    "\n",
    "**meshgrid** has these parameters below that creates all the X1, X2 points that is used for plotting the map.\n",
    "\n",
    "start=X[:, V1].min() - 1, \n",
    "stop =X[:, V1].max() + 1\n",
    "step =0.01\n",
    "\n",
    "start=X[:, V2].min() - 1, \n",
    "stop=X[:, V2].max() + 1\n",
    "step =0.01\n",
    "\n",
    "\n",
    "Let's see what meshgrid does:\n"
   ]
  },
  {
   "cell_type": "code",
   "execution_count": 7,
   "metadata": {},
   "outputs": [
    {
     "name": "stdout",
     "output_type": "stream",
     "text": [
      "[[-1  0  1]\n",
      " [-1  0  1]\n",
      " [-1  0  1]]\n",
      "[[-1 -1 -1]\n",
      " [ 0  0  0]\n",
      " [ 1  1  1]]\n"
     ]
    }
   ],
   "source": [
    "import numpy as np\n",
    "\n",
    "X1,X2=np.meshgrid(np.arange(-1,2,1),np.arange(-1,2,1))\n",
    "print(x1)\n",
    "print(x2)"
   ]
  },
  {
   "cell_type": "markdown",
   "metadata": {},
   "source": [
    "**meshgrid** method in numpy creates a co-ordinate matrix of the 2d coordinates. The rectangular(mesh) is formed whose length is x1_max-x1_min and breadth is x2_max-x2_min.\n",
    "\n",
    "What does ravel do? It flattens the matrix. "
   ]
  },
  {
   "cell_type": "code",
   "execution_count": 8,
   "metadata": {},
   "outputs": [
    {
     "data": {
      "text/plain": [
       "array([[-1,  0,  1, -1,  0,  1, -1,  0,  1],\n",
       "       [-1, -1, -1,  0,  0,  0,  1,  1,  1]])"
      ]
     },
     "execution_count": 8,
     "metadata": {},
     "output_type": "execute_result"
    }
   ],
   "source": [
    "np.array([X1.ravel(), X2.ravel()])"
   ]
  },
  {
   "cell_type": "markdown",
   "metadata": {},
   "source": [
    "After transpose, you get a pair of coordinates on the graph. "
   ]
  },
  {
   "cell_type": "code",
   "execution_count": 9,
   "metadata": {},
   "outputs": [
    {
     "data": {
      "text/plain": [
       "array([[-1, -1],\n",
       "       [ 0, -1],\n",
       "       [ 1, -1],\n",
       "       [-1,  0],\n",
       "       [ 0,  0],\n",
       "       [ 1,  0],\n",
       "       [-1,  1],\n",
       "       [ 0,  1],\n",
       "       [ 1,  1]])"
      ]
     },
     "execution_count": 9,
     "metadata": {},
     "output_type": "execute_result"
    }
   ],
   "source": [
    "np.array([X1.ravel(), X2.ravel()]).T"
   ]
  },
  {
   "cell_type": "markdown",
   "metadata": {},
   "source": [
    "The coordinates are fed to a predictor class that returns the class value:\n",
    "\n",
    "    gb.predict(np.array([X1.ravel(), X2.ravel()]).T).reshape(X1.shape)\n",
    "\n",
    "The class values will be mapped according to the cmap and plotted by the **plt.contourf(..)** function.\n",
    "\n",
    "plt.scatter prints the individual data points according to the class value and color"
   ]
  },
  {
   "cell_type": "markdown",
   "metadata": {},
   "source": [
    "### Example"
   ]
  },
  {
   "cell_type": "code",
   "execution_count": 12,
   "metadata": {},
   "outputs": [
    {
     "data": {
      "image/png": "[encoded data removed]",
      "text/plain": [
       "<Figure size 432x288 with 1 Axes>"
      ]
     },
     "metadata": {
      "needs_background": "light"
     },
     "output_type": "display_data"
    }
   ],
   "source": [
    "from sklearn import datasets\n",
    "from matplotlib.colors import ListedColormap  \n",
    "from sklearn.naive_bayes import GaussianNB\n",
    "import matplotlib.pyplot as plt\n",
    "\n",
    "# import iris data \n",
    "iris = datasets.load_iris()\n",
    "\n",
    "#create classifier\n",
    "gb=GaussianNB()\n",
    "gb.fit(iris.data[:,(0,2)], iris.target)\n",
    "\n",
    "\n",
    "V1=0 #X0\n",
    "V2=2 #X1\n",
    "\n",
    "X1, X2 = np.meshgrid(np.arange(start = iris.data[:, V1].min() - 1, stop = iris.data[:, V1].max() + 1, step = 0.01),  \n",
    "                     np.arange(start = iris.data[:, V2].min() - 1, stop = iris.data[:, V2].max() + 1, step = 0.01))  \n",
    "plt.contourf(X1, X2, gb.predict(np.array([X1.ravel(), X2.ravel()]).T).reshape(X1.shape),  \n",
    "             alpha = 0.75, cmap = ListedColormap(('red', 'blue','green'))  )\n",
    "plt.xlim(X1.min(), X1.max())  \n",
    "plt.ylim(X2.min(), X2.max())  \n",
    "for i, j in enumerate(np.unique(iris.target)):  \n",
    "    plt.scatter(iris.data[iris.target == j, V1], iris.data[iris.target == j, V2],  \n",
    "                c = ['red','blue','lightgreen'][i], label = j)  \n",
    "plt.title('Naive Bayes (Training set)')  \n",
    "plt.xlabel('X0')  \n",
    "plt.ylabel('X1')  \n",
    "plt.legend()  \n",
    "plt.show()"
   ]
  },
  {
   "cell_type": "code",
   "execution_count": null,
   "metadata": {},
   "outputs": [],
   "source": []
  }
 ],
 "metadata": {
  "kernelspec": {
   "display_name": "Python 3",
   "language": "python",
   "name": "python3"
  },
  "language_info": {
   "codemirror_mode": {
    "name": "ipython",
    "version": 3
   },
   "file_extension": ".py",
   "mimetype": "text/x-python",
   "name": "python",
   "nbconvert_exporter": "python",
   "pygments_lexer": "ipython3",
   "version": "3.8.3"
  }
 },
 "nbformat": 4,
 "nbformat_minor": 4
}
