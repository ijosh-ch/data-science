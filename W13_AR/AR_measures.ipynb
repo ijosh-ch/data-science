{
 "cells": [
  {
   "cell_type": "markdown",
   "metadata": {},
   "source": [
    "### Understanding Association Rule Measures\n",
    "\n",
    "Testing conviction and confidence metrics\n",
    "\n",
    "    Confidence = S(X,Y)/S(X)\n",
    "    Conviction = S(X)S(-Y)/S(X,-Y)\n",
    "    Lift = S(X,Y)/S(X)S(Y)\n",
    "\n",
    "Write small functions that can calculate those measures. \n",
    "Play around with various X and Y values, see how they influence the measures."
   ]
  },
  {
   "cell_type": "code",
   "execution_count": 2,
   "metadata": {},
   "outputs": [
    {
     "name": "stdout",
     "output_type": "stream",
     "text": [
      "Conviction:  0.67\n",
      "Confidence:  0.50\n",
      "Lift:  0.75\n"
     ]
    }
   ],
   "source": [
    "def S(X):\n",
    "    L = len(X)\n",
    "    return X.count(1) / L\n",
    "\n",
    "def S_Not(X):\n",
    "    L = len(X)\n",
    "    return X.count(0) / L\n",
    "\n",
    "def S_X_Y(X, Y):\n",
    "    L = len(X)\n",
    "    count = 0\n",
    "    for i in range(L):\n",
    "        if X[i] == 1 and Y[i] == 1:\n",
    "            count += 1\n",
    "    return count / L\n",
    "\n",
    "def S_X_NotY(X, Y):\n",
    "    L = len(X)\n",
    "    count = 0\n",
    "    for i in range(L):\n",
    "        if X[i] == 1 and Y[i] == 0:\n",
    "            count += 1\n",
    "    return count / L\n",
    "\n",
    "def Conv(X, Y):\n",
    "    S_X = S(X)\n",
    "    S_NotY = S_Not(Y)\n",
    "    S_X_NotY_val = S_X_NotY(X, Y)\n",
    "    if S_X_NotY_val != 0:\n",
    "        return (S_X * S_NotY) / S_X_NotY_val\n",
    "    else:\n",
    "        return float('inf')  # Avoid division by zero\n",
    "\n",
    "def Conf(X, Y):\n",
    "    S_X = S(X)\n",
    "    S_X_Y_val = S_X_Y(X, Y)\n",
    "    if S_X != 0:\n",
    "        return S_X_Y_val / S_X\n",
    "    else:\n",
    "        return float('inf')  # Avoid division by zero\n",
    "\n",
    "def Lift(X, Y):\n",
    "    S_X = S(X)\n",
    "    S_Y = S(Y)\n",
    "    S_X_Y_val = S_X_Y(X, Y)\n",
    "    if (S_X * S_Y) != 0:\n",
    "        return S_X_Y_val / (S_X * S_Y)\n",
    "    else:\n",
    "        return float('inf')  # Avoid division by zero\n",
    "\n",
    "# Example usage\n",
    "X = [1, 1, 1, 1, 0, 0]\n",
    "Y = [1, 1, 0, 0, 1, 1]\n",
    "\n",
    "print('Conviction: {0:5.2f}'.format(Conv(X, Y)))\n",
    "print('Confidence: {0:5.2f}'.format(Conf(X, Y)))\n",
    "print('Lift: {0:5.2f}'.format(Lift(X, Y)))"
   ]
  },
  {
   "cell_type": "code",
   "execution_count": 3,
   "metadata": {},
   "outputs": [
    {
     "name": "stdout",
     "output_type": "stream",
     "text": [
      "Conviction: 0.67\n",
      "Confidence: 0.50\n",
      "Lift: 0.75\n"
     ]
    }
   ],
   "source": [
    "#Each column is a transaction \n",
    "#mostly uncorrelated X with Y\n",
    "X=[1,1,1,1,0,0]\n",
    "Y=[1,1,0,0,1,1]\n",
    "print('Conviction:{0:5.2f}'.format(Conv(X,Y)))\n",
    "print('Confidence:{0:5.2f}'.format(Conf(X,Y)))\n",
    "print('Lift:{0:5.2f}'.format(Lift(X,Y)))\n"
   ]
  },
  {
   "cell_type": "code",
   "execution_count": 4,
   "metadata": {},
   "outputs": [
    {
     "name": "stdout",
     "output_type": "stream",
     "text": [
      "Conviction: 1.00\n",
      "Confidence: 0.33\n",
      "Lift: 1.00\n"
     ]
    }
   ],
   "source": [
    "#Only some X has Y\n",
    "X=[1,1,1,1,1,1]\n",
    "Y=[1,1,0,0,0,0]\n",
    "print('Conviction:{0:5.2f}'.format(Conv(X,Y)))\n",
    "print('Confidence:{0:5.2f}'.format(Conf(X,Y)))\n",
    "print('Lift:{0:5.2f}'.format(Lift(X,Y)))"
   ]
  },
  {
   "cell_type": "code",
   "execution_count": 5,
   "metadata": {},
   "outputs": [
    {
     "name": "stdout",
     "output_type": "stream",
     "text": [
      "X: [1, 1, 1, 1, 0, 0], Y: [1, 1, 1, 1, 0, 0]\n",
      "Conviction:   inf\n",
      "Confidence:  1.00\n",
      "Lift:  1.50\n",
      "\n",
      "X: [1, 1, 1, 1, 0, 0], Y: [1, 0, 1, 0, 1, 0]\n",
      "Conviction:  1.00\n",
      "Confidence:  0.50\n",
      "Lift:  1.00\n",
      "\n",
      "X: [1, 1, 0, 0, 1, 1], Y: [1, 1, 0, 0, 1, 1]\n",
      "Conviction:   inf\n",
      "Confidence:  1.00\n",
      "Lift:  1.50\n",
      "\n",
      "X: [1, 1, 1, 0, 0, 0], Y: [1, 1, 1, 1, 1, 1]\n",
      "Conviction:   inf\n",
      "Confidence:  1.00\n",
      "Lift:  1.00\n",
      "\n",
      "X: [1, 1, 1, 1, 0, 0], Y: [1, 1, 1, 1, 0, 0]\n",
      "Conviction:   inf\n",
      "Confidence:  1.00\n",
      "Lift:  1.50\n",
      "\n"
     ]
    }
   ],
   "source": [
    "#try many other combinations\n",
    "#All X has Y;\n",
    "#Only some X has Y\n",
    "#every Y has X\n",
    "#high confidence but lots of Y not related to X \n",
    "#high confidence, high conviction\n",
    "\n",
    "def S(X):\n",
    "    L = len(X)\n",
    "    return X.count(1) / L\n",
    "\n",
    "def S_Not(X):\n",
    "    L = len(X)\n",
    "    return X.count(0) / L\n",
    "\n",
    "def S_X_Y(X, Y):\n",
    "    L = len(X)\n",
    "    count = 0\n",
    "    for i in range(L):\n",
    "        if X[i] == 1 and Y[i] == 1:\n",
    "            count += 1\n",
    "    return count / L\n",
    "\n",
    "def S_X_NotY(X, Y):\n",
    "    L = len(X)\n",
    "    count = 0\n",
    "    for i in range(L):\n",
    "        if X[i] == 1 and Y[i] == 0:\n",
    "            count += 1\n",
    "    return count / L\n",
    "\n",
    "def Conv(X, Y):\n",
    "    S_X = S(X)\n",
    "    S_NotY = S_Not(Y)\n",
    "    S_X_NotY_val = S_X_NotY(X, Y)\n",
    "    if S_X_NotY_val != 0:\n",
    "        return (S_X * S_NotY) / S_X_NotY_val\n",
    "    else:\n",
    "        return float('inf')  # Avoid division by zero\n",
    "\n",
    "def Conf(X, Y):\n",
    "    S_X = S(X)\n",
    "    S_X_Y_val = S_X_Y(X, Y)\n",
    "    if S_X != 0:\n",
    "        return S_X_Y_val / S_X\n",
    "    else:\n",
    "        return float('inf')  # Avoid division by zero\n",
    "\n",
    "def Lift(X, Y):\n",
    "    S_X = S(X)\n",
    "    S_Y = S(Y)\n",
    "    S_X_Y_val = S_X_Y(X, Y)\n",
    "    if (S_X * S_Y) != 0:\n",
    "        return S_X_Y_val / (S_X * S_Y)\n",
    "    else:\n",
    "        return float('inf')  # Avoid division by zero\n",
    "\n",
    "# Test various combinations\n",
    "combinations = [\n",
    "    ([1, 1, 1, 1, 0, 0], [1, 1, 1, 1, 0, 0]),  # All X has Y\n",
    "    ([1, 1, 1, 1, 0, 0], [1, 0, 1, 0, 1, 0]),  # Only some X has Y\n",
    "    ([1, 1, 0, 0, 1, 1], [1, 1, 0, 0, 1, 1]),  # Every Y has X\n",
    "    ([1, 1, 1, 0, 0, 0], [1, 1, 1, 1, 1, 1]),  # High confidence but lots of Y not related to X\n",
    "    ([1, 1, 1, 1, 0, 0], [1, 1, 1, 1, 0, 0])   # High confidence, high conviction\n",
    "]\n",
    "\n",
    "for X, Y in combinations:\n",
    "    print(f\"X: {X}, Y: {Y}\")\n",
    "    print(f\"Conviction: {Conv(X, Y):5.2f}\")\n",
    "    print(f\"Confidence: {Conf(X, Y):5.2f}\")\n",
    "    print(f\"Lift: {Lift(X, Y):5.2f}\")\n",
    "    print()"
   ]
  },
  {
   "cell_type": "markdown",
   "metadata": {},
   "source": [
    "### Question\n",
    "1. What can you conclude about them the measures for X->Y:\n",
    "\n",
    "    - High conviction is when  ....\n",
    "    - High confidence is when ....\n",
    "    - High lift is ..\n",
    "\n",
    "### Answer\n",
    "1. High Conviction:\n",
    "    - **Definition**: Conviction measures the degree of implication of the rule, considering the absence of the consequent (Y).\n",
    "    - **High** **Conviction**: High conviction occurs when the rule X -> Y rarely fails. This means that when X occurs, Y almost always occurs, and the absence of Y when X occurs is rare. High conviction indicates a strong implication of the rule.\n",
    "    - **Example**: If X = [1, 1, 1, 1, 0, 0] and Y = [1, 1, 1, 1, 0, 0], the conviction is high because the absence of Y when X occurs is rare.\n",
    "\n",
    "2. High Confidence:\n",
    "    - **Definition**: Confidence measures the proportion of transactions containing X that also contain Y.\n",
    "    - High **Confidence**: High confidence occurs when a high proportion of transactions that contain X also contain Y. This means that X is a strong predictor of Y.\n",
    "    - **Example**: If X = [1, 1, 1, 1, 0, 0] and Y = [1, 1, 1, 1, 0, 0], the confidence is high because all transactions that contain X also contain Y.\n",
    "\n",
    "3. High Lift:\n",
    "    - **Definition**: Lift measures how much more likely Y is to occur when X occurs compared to when X does not occur. It is the ratio of the observed support to that expected if X and Y were independent.\n",
    "    - **High** **Lift**: High lift occurs when the presence of X significantly increases the likelihood of Y occurring. This means that X and Y are strongly associated and not independent.\n",
    "    - **Example**: If X = [1, 1, 1, 1, 0, 0] and Y = [1, 1, 1, 1, 0, 0], the lift is high because the presence of X significantly increases the likelihood of Y occurring.\n"
   ]
  }
 ],
 "metadata": {
  "kernelspec": {
   "display_name": ".venv",
   "language": "python",
   "name": "python3"
  },
  "language_info": {
   "codemirror_mode": {
    "name": "ipython",
    "version": 3
   },
   "file_extension": ".py",
   "mimetype": "text/x-python",
   "name": "python",
   "nbconvert_exporter": "python",
   "pygments_lexer": "ipython3",
   "version": "3.13.0"
  }
 },
 "nbformat": 4,
 "nbformat_minor": 4
}
