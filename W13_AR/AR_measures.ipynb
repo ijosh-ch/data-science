{
 "cells": [
  {
   "cell_type": "markdown",
   "metadata": {},
   "source": [
    "### Understanding Association Rule Measures\n",
    "\n",
    "Testing conviction and confidence metrics\n",
    "\n",
    "    Confidence = S(X,Y)/S(X)\n",
    "    Conviction = S(X)S(-Y)/S(X,-Y)\n",
    "    Lift = S(X,Y)/S(X)S(Y)\n",
    "\n",
    "Write small functions that can calculate those measures. \n",
    "Play around with various X and Y values, see how they influence the measures."
   ]
  },
  {
   "cell_type": "code",
   "execution_count": 1,
   "metadata": {},
   "outputs": [
    {
     "ename": "IndentationError",
     "evalue": "expected an indented block (<ipython-input-1-6fb43374b2d7>, line 19)",
     "output_type": "error",
     "traceback": [
      "\u001b[1;36m  File \u001b[1;32m\"<ipython-input-1-6fb43374b2d7>\"\u001b[1;36m, line \u001b[1;32m19\u001b[0m\n\u001b[1;33m    def Conv(X,Y):\u001b[0m\n\u001b[1;37m    ^\u001b[0m\n\u001b[1;31mIndentationError\u001b[0m\u001b[1;31m:\u001b[0m expected an indented block\n"
     ]
    }
   ],
   "source": [
    "def S(X):\n",
    "    L=len(X)\n",
    "    return X.count(1)/L\n",
    "\n",
    "def S_Not(X):\n",
    "    L=len(X)\n",
    "    return X.count(0)/L\n",
    "\n",
    "def S_X_Y(X,Y):\n",
    "    #your implementation\n",
    "    return Z.count(1)/L\n",
    "\n",
    "def S_X_NotY(X,Y):\n",
    "    #your implementation\n",
    "\n",
    "\n",
    "def Conv(X,Y):\n",
    "    #your implementation\n",
    "    \n",
    "def Conf(X,Y):\n",
    "    #your implementation\n",
    "    \n",
    "def Lift(X,Y):\n",
    "    if(S(X)*S(Y))!=0:\n",
    "        return S_X_Y(X,Y)/(S(X)*S(Y))\n",
    "    else:\n",
    "        return 9999 #divide by zero error"
   ]
  },
  {
   "cell_type": "code",
   "execution_count": 68,
   "metadata": {},
   "outputs": [
    {
     "name": "stdout",
     "output_type": "stream",
     "text": [
      "Conviction: 0.67\n",
      "Confidence: 0.50\n",
      "Lift: 0.75\n"
     ]
    }
   ],
   "source": [
    "#Each column is a transaction \n",
    "#mostly uncorrelated X with Y\n",
    "X=[1,1,1,1,0,0]\n",
    "Y=[1,1,0,0,1,1]\n",
    "print('Conviction:{0:5.2f}'.format(Conv(X,Y)))\n",
    "print('Confidence:{0:5.2f}'.format(Conf(X,Y)))\n",
    "print('Lift:{0:5.2f}'.format(Lift(X,Y)))\n"
   ]
  },
  {
   "cell_type": "code",
   "execution_count": null,
   "metadata": {},
   "outputs": [],
   "source": [
    "#Only some X has Y\n",
    "X=[1,1,1,1,1,1]\n",
    "Y=[1,1,0,0,0,0]\n",
    "print('Conviction:{0:5.2f}'.format(Conv(X,Y)))\n",
    "print('Confidence:{0:5.2f}'.format(Conf(X,Y)))\n",
    "print('Lift:{0:5.2f}'.format(Lift(X,Y)))"
   ]
  },
  {
   "cell_type": "code",
   "execution_count": null,
   "metadata": {},
   "outputs": [],
   "source": [
    "#try many other combinations\n",
    "#All X has Y;\n",
    "#Only some X has Y\n",
    "#every Y has X\n",
    "#high confidence but lots of Y not related to X \n",
    "#high confidence, high conviction"
   ]
  },
  {
   "cell_type": "markdown",
   "metadata": {},
   "source": [
    "### Question\n",
    "1. What can you conclude about them the measures for X->Y:\n",
    "\n",
    "    - High conviction is when  ....\n",
    "    - High confidence is when ....\n",
    "    - High lift is ..\n"
   ]
  },
  {
   "cell_type": "code",
   "execution_count": null,
   "metadata": {},
   "outputs": [],
   "source": []
  }
 ],
 "metadata": {
  "kernelspec": {
   "display_name": "Python 3",
   "language": "python",
   "name": "python3"
  },
  "language_info": {
   "codemirror_mode": {
    "name": "ipython",
    "version": 3
   },
   "file_extension": ".py",
   "mimetype": "text/x-python",
   "name": "python",
   "nbconvert_exporter": "python",
   "pygments_lexer": "ipython3",
   "version": "3.8.3"
  }
 },
 "nbformat": 4,
 "nbformat_minor": 4
}
