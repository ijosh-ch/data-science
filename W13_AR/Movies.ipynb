{
 "cells": [
  {
   "cell_type": "markdown",
   "metadata": {},
   "source": [
    "### Movie Recommendations with Association Rules\n",
    "\n",
    "Download small dataset : https://grouplens.org/datasets/movielens/ (or from included zip file)\n"
   ]
  },
  {
   "cell_type": "code",
   "execution_count": null,
   "metadata": {},
   "outputs": [],
   "source": [
    "###1. Load data \n",
    "import pandas as pd\n",
    "ratings_df = pd.read_csv(\"ml-latest-small/ratings.csv\",delimiter=\",\")\n",
    "movies_df = pd.read_csv(\"ml-latest-small/movies.csv\",delimiter=\",\")\n",
    "#all_ratings[\"timestamp\"] = pd.to_datetime(all_ratings['timestamp'])\n",
    "print(ratings_df.head())"
   ]
  },
  {
   "cell_type": "code",
   "execution_count": null,
   "metadata": {},
   "outputs": [],
   "source": [
    "movie_ratings_df = pd.merge(ratings_df, movies_df, how='left',\n",
    "                            left_on='movieId', right_on='movieId')"
   ]
  },
  {
   "cell_type": "code",
   "execution_count": null,
   "metadata": {},
   "outputs": [],
   "source": [
    "movie_ratings_df.head()\n"
   ]
  },
  {
   "cell_type": "markdown",
   "metadata": {},
   "source": [
    "Create a Pivot table using the panda function pivot"
   ]
  },
  {
   "cell_type": "code",
   "execution_count": null,
   "metadata": {},
   "outputs": [],
   "source": [
    "rat=ratings_df.pivot(index='userId', columns='movieId', values='rating')\n",
    "rat.fillna(0,inplace=True) #replace NaN with 0\n",
    "rat.head()"
   ]
  },
  {
   "cell_type": "code",
   "execution_count": null,
   "metadata": {},
   "outputs": [],
   "source": [
    "sel=[31,1029,1061,1129,1172] #movieId\n",
    "#the ratings the above movieId for userid = 1 [check that it is the same as above ]\n",
    "rat.loc[1][sel] \n"
   ]
  },
  {
   "cell_type": "code",
   "execution_count": null,
   "metadata": {},
   "outputs": [],
   "source": [
    "rat[rat<3]=0\n",
    "rat[rat>=3]=1 #Good rating"
   ]
  },
  {
   "cell_type": "code",
   "execution_count": null,
   "metadata": {},
   "outputs": [],
   "source": [
    "rat.loc[1][sel] "
   ]
  },
  {
   "cell_type": "code",
   "execution_count": null,
   "metadata": {},
   "outputs": [],
   "source": [
    "rat.sum(axis=1) # how many ratings>=3 for each user "
   ]
  },
  {
   "cell_type": "markdown",
   "metadata": {},
   "source": [
    "### Your turn\n",
    "1. Create a frequent_itemsets with support of 0.2 and set use_colnames=True\n",
    "2. Create the association rules with apriori with confidence metric = 0.5"
   ]
  },
  {
   "cell_type": "markdown",
   "metadata": {},
   "source": [
    "### Questions\n",
    "1. If a person likes The Matrix, and Star Wars, what other movies would you recommend to him/her? Why?\n",
    "1. If a person likes Pulp Fiction and Jurassic Park, what other movies would you recommend to him/her? Why?\n",
    "1. Comment on line 147 and 148, on why is there a difference in values for conviction and confidence:\n",
    "\n",
    "147 \t(296, 480) \t(356) \t0.244411 \t0.476900 \t0.202683 \t0.829268 \t1.738872 \t0.086123 \t3.063871\n",
    "\n",
    "148 \t(296, 356) \t(480) \t0.311475 \t0.366617 \t0.202683 \t0.650718 \t1.774925 \t0.088490 \t1.813384\n",
    "\n",
    "Reference: http://rasbt.github.io/mlxtend/user_guide/frequent_patterns/association_rules/#metrics\n",
    "\n"
   ]
  },
  {
   "cell_type": "code",
   "execution_count": null,
   "metadata": {},
   "outputs": [],
   "source": []
  }
 ],
 "metadata": {
  "kernelspec": {
   "display_name": "Python 3",
   "language": "python",
   "name": "python3"
  },
  "language_info": {
   "codemirror_mode": {
    "name": "ipython",
    "version": 3
   },
   "file_extension": ".py",
   "mimetype": "text/x-python",
   "name": "python",
   "nbconvert_exporter": "python",
   "pygments_lexer": "ipython3",
   "version": "3.8.3"
  }
 },
 "nbformat": 4,
 "nbformat_minor": 2
}
